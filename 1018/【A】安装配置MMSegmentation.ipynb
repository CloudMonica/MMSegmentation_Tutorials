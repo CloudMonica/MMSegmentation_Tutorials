{
 "cells": [
  {
   "cell_type": "markdown",
   "id": "bc3d1961-9081-49c9-be56-ad0c748decf1",
   "metadata": {},
   "source": [
    "# 安装配置MMSegmentation"
   ]
  },
  {
   "cell_type": "markdown",
   "id": "0fc8ebd8-db6e-4a17-895f-2f87fc98ca79",
   "metadata": {},
   "source": [
    "按照顺序逐行运行本代码，即可安装配置 MMCV、MMSegmentation环境\n",
    "\n",
    "代码测试[云GPU环境](https://featurize.cn?s=d7ce99f842414bfcaea5662a97581bd1)：GPU RTX 3060、CUDA v11.2\n",
    "\n",
    "OpenMMLab主页：https://openmmlab.com/\n",
    "\n",
    "MMSegmentation主页：https://github.com/open-mmlab/mmsegmentation\n",
    "\n",
    "作者：同济子豪兄 2022-10-18"
   ]
  },
  {
   "cell_type": "markdown",
   "id": "63d0dc47-4601-49a3-8d25-12b4d24fa6f0",
   "metadata": {},
   "source": [
    "> 提示：以下代码运行时，若长时间运行卡着不动，可重启 kernel 后重新运行一遍"
   ]
  },
  {
   "cell_type": "markdown",
   "id": "6fc1c686-1267-4503-b9e4-bcb188a7f974",
   "metadata": {
    "tags": []
   },
   "source": [
    "## 下载安装Pytorch"
   ]
  },
  {
   "cell_type": "code",
   "execution_count": 1,
   "id": "2fef57fc-d5f0-4cd0-a134-1f025c15439f",
   "metadata": {},
   "outputs": [
    {
     "name": "stdout",
     "output_type": "stream",
     "text": [
      "Looking in indexes: https://pypi.tuna.tsinghua.edu.cn/simple\n",
      "Looking in links: https://download.pytorch.org/whl/cu113/torch_stable.html\n",
      "Collecting install\n",
      "  Downloading https://pypi.tuna.tsinghua.edu.cn/packages/4d/c8/8cbca135f9e167810756ea2bc34b028501936675fcbd7dadccf752fa4622/install-1.3.5-py3-none-any.whl (3.2 kB)\n",
      "Collecting torch==1.10.1+cu113\n",
      "  Downloading https://download.pytorch.org/whl/cu113/torch-1.10.1%2Bcu113-cp37-cp37m-linux_x86_64.whl (1821.5 MB)\n",
      "\u001b[K     |████████▎                       | 468.2 MB 109.5 MB/s eta 0:00:13"
     ]
    },
    {
     "name": "stderr",
     "output_type": "stream",
     "text": [
      "IOPub data rate exceeded.\n",
      "The Jupyter server will temporarily stop sending output\n",
      "to the client in order to avoid crashing it.\n",
      "To change this limit, set the config variable\n",
      "`--ServerApp.iopub_data_rate_limit`.\n",
      "\n",
      "Current values:\n",
      "ServerApp.iopub_data_rate_limit=1000000.0 (bytes/sec)\n",
      "ServerApp.rate_limit_window=3.0 (secs)\n",
      "\n"
     ]
    },
    {
     "name": "stdout",
     "output_type": "stream",
     "text": [
      "\u001b[K     |██████████████▋                 | 830.0 MB 112.0 MB/s eta 0:00:09"
     ]
    },
    {
     "name": "stderr",
     "output_type": "stream",
     "text": [
      "IOPub data rate exceeded.\n",
      "The Jupyter server will temporarily stop sending output\n",
      "to the client in order to avoid crashing it.\n",
      "To change this limit, set the config variable\n",
      "`--ServerApp.iopub_data_rate_limit`.\n",
      "\n",
      "Current values:\n",
      "ServerApp.iopub_data_rate_limit=1000000.0 (bytes/sec)\n",
      "ServerApp.rate_limit_window=3.0 (secs)\n",
      "\n"
     ]
    },
    {
     "name": "stdout",
     "output_type": "stream",
     "text": [
      "\u001b[K     |█████████████████████           | 1195.2 MB 69.5 MB/s eta 0:00:106"
     ]
    },
    {
     "name": "stderr",
     "output_type": "stream",
     "text": [
      "IOPub data rate exceeded.\n",
      "The Jupyter server will temporarily stop sending output\n",
      "to the client in order to avoid crashing it.\n",
      "To change this limit, set the config variable\n",
      "`--ServerApp.iopub_data_rate_limit`.\n",
      "\n",
      "Current values:\n",
      "ServerApp.iopub_data_rate_limit=1000000.0 (bytes/sec)\n",
      "ServerApp.rate_limit_window=3.0 (secs)\n",
      "\n"
     ]
    },
    {
     "name": "stdout",
     "output_type": "stream",
     "text": [
      "\u001b[K     |██████████████████████████▉     | 1529.7 MB 117.6 MB/s eta 0:00:03"
     ]
    },
    {
     "name": "stderr",
     "output_type": "stream",
     "text": [
      "IOPub data rate exceeded.\n",
      "The Jupyter server will temporarily stop sending output\n",
      "to the client in order to avoid crashing it.\n",
      "To change this limit, set the config variable\n",
      "`--ServerApp.iopub_data_rate_limit`.\n",
      "\n",
      "Current values:\n",
      "ServerApp.iopub_data_rate_limit=1000000.0 (bytes/sec)\n",
      "ServerApp.rate_limit_window=3.0 (secs)\n",
      "\n"
     ]
    },
    {
     "name": "stdout",
     "output_type": "stream",
     "text": [
      "\u001b[K     |████████████████████████████████| 1821.5 MB 116.2 MB/s eta 0:00:01\n",
      "\u001b[?25hCollecting torchvision==0.11.2+cu113\n",
      "  Downloading https://download.pytorch.org/whl/cu113/torchvision-0.11.2%2Bcu113-cp37-cp37m-linux_x86_64.whl (24.6 MB)\n",
      "\u001b[K     |████████████████████████████████| 24.6 MB 74.8 MB/s eta 0:00:01\n",
      "\u001b[?25hCollecting torchaudio==0.10.1+cu113\n",
      "  Downloading https://download.pytorch.org/whl/cu113/torchaudio-0.10.1%2Bcu113-cp37-cp37m-linux_x86_64.whl (2.9 MB)\n",
      "\u001b[K     |████████████████████████████████| 2.9 MB 71.3 MB/s eta 0:00:01\n",
      "\u001b[?25hRequirement already satisfied: typing-extensions in /environment/miniconda3/lib/python3.7/site-packages (from torch==1.10.1+cu113) (4.0.1)\n",
      "Requirement already satisfied: numpy in /environment/miniconda3/lib/python3.7/site-packages (from torchvision==0.11.2+cu113) (1.21.4)\n",
      "Requirement already satisfied: pillow!=8.3.0,>=5.3.0 in /environment/miniconda3/lib/python3.7/site-packages (from torchvision==0.11.2+cu113) (8.4.0)\n",
      "Installing collected packages: torch, torchvision, torchaudio, install\n",
      "  Attempting uninstall: torch\n",
      "    Found existing installation: torch 1.10.0+cu113\n",
      "    Uninstalling torch-1.10.0+cu113:\n",
      "      Successfully uninstalled torch-1.10.0+cu113\n",
      "  Attempting uninstall: torchvision\n",
      "    Found existing installation: torchvision 0.11.1+cu113\n",
      "    Uninstalling torchvision-0.11.1+cu113:\n",
      "      Successfully uninstalled torchvision-0.11.1+cu113\n",
      "  Attempting uninstall: torchaudio\n",
      "    Found existing installation: torchaudio 0.10.0+cu113\n",
      "    Uninstalling torchaudio-0.10.0+cu113:\n",
      "      Successfully uninstalled torchaudio-0.10.0+cu113\n",
      "Successfully installed install-1.3.5 torch-1.10.1+cu113 torchaudio-0.10.1+cu113 torchvision-0.11.2+cu113\n"
     ]
    }
   ],
   "source": [
    "# 安装Pytorch\n",
    "!pip3 install install torch==1.10.1+cu113 torchvision==0.11.2+cu113 torchaudio==0.10.1+cu113 -f https://download.pytorch.org/whl/cu113/torch_stable.html"
   ]
  },
  {
   "cell_type": "markdown",
   "id": "30ca00a2-4f39-44f3-9379-8889e3a24b39",
   "metadata": {},
   "source": [
    "## 下载安装 mmcv-full"
   ]
  },
  {
   "cell_type": "code",
   "execution_count": 3,
   "id": "69d80570-7eb5-4bf4-a84d-39106d23f73b",
   "metadata": {},
   "outputs": [
    {
     "name": "stdout",
     "output_type": "stream",
     "text": [
      "Looking in indexes: https://pypi.tuna.tsinghua.edu.cn/simple\n",
      "Looking in links: https://download.openmmlab.com/mmcv/dist/cu113/torch1.10.0/index.html\n",
      "Requirement already satisfied: mmcv-full in /environment/miniconda3/lib/python3.7/site-packages (1.6.2)\n",
      "Requirement already satisfied: numpy in /environment/miniconda3/lib/python3.7/site-packages (from mmcv-full) (1.21.4)\n",
      "Requirement already satisfied: opencv-python>=3 in /environment/miniconda3/lib/python3.7/site-packages (from mmcv-full) (4.5.4.60)\n",
      "Requirement already satisfied: pyyaml in /environment/miniconda3/lib/python3.7/site-packages (from mmcv-full) (6.0)\n",
      "Requirement already satisfied: Pillow in /environment/miniconda3/lib/python3.7/site-packages (from mmcv-full) (8.4.0)\n",
      "Requirement already satisfied: packaging in /environment/miniconda3/lib/python3.7/site-packages (from mmcv-full) (21.3)\n",
      "Requirement already satisfied: yapf in /environment/miniconda3/lib/python3.7/site-packages (from mmcv-full) (0.31.0)\n",
      "Requirement already satisfied: addict in /environment/miniconda3/lib/python3.7/site-packages (from mmcv-full) (2.4.0)\n",
      "Requirement already satisfied: pyparsing!=3.0.5,>=2.0.2 in /environment/miniconda3/lib/python3.7/site-packages (from packaging->mmcv-full) (3.0.6)\n"
     ]
    }
   ],
   "source": [
    "# 安装mmcv -full\n",
    "!pip install mmcv-full -f https://download.openmmlab.com/mmcv/dist/cu113/torch1.10.0/index.html"
   ]
  },
  {
   "cell_type": "markdown",
   "id": "38c55520-071b-41de-91f4-3ec78e16bf27",
   "metadata": {},
   "source": [
    "## 安装其它工具包"
   ]
  },
  {
   "cell_type": "code",
   "execution_count": 18,
   "id": "eb4b3373-f117-46a9-ab43-e67753eb7c61",
   "metadata": {},
   "outputs": [
    {
     "name": "stdout",
     "output_type": "stream",
     "text": [
      "Looking in indexes: https://pypi.tuna.tsinghua.edu.cn/simple\n",
      "Requirement already satisfied: opencv-python in /environment/miniconda3/lib/python3.7/site-packages (4.5.4.60)\n",
      "Requirement already satisfied: pillow in /environment/miniconda3/lib/python3.7/site-packages (8.4.0)\n",
      "Requirement already satisfied: matplotlib in /environment/miniconda3/lib/python3.7/site-packages (3.5.0)\n",
      "Requirement already satisfied: seaborn in /environment/miniconda3/lib/python3.7/site-packages (0.12.0)\n",
      "Requirement already satisfied: tqdm in /environment/miniconda3/lib/python3.7/site-packages (4.61.2)\n",
      "Requirement already satisfied: numpy>=1.14.5 in /environment/miniconda3/lib/python3.7/site-packages (from opencv-python) (1.21.4)\n",
      "Requirement already satisfied: setuptools-scm>=4 in /environment/miniconda3/lib/python3.7/site-packages (from matplotlib) (6.3.2)\n",
      "Requirement already satisfied: packaging>=20.0 in /environment/miniconda3/lib/python3.7/site-packages (from matplotlib) (21.3)\n",
      "Requirement already satisfied: kiwisolver>=1.0.1 in /environment/miniconda3/lib/python3.7/site-packages (from matplotlib) (1.3.2)\n",
      "Requirement already satisfied: cycler>=0.10 in /environment/miniconda3/lib/python3.7/site-packages (from matplotlib) (0.11.0)\n",
      "Requirement already satisfied: python-dateutil>=2.7 in /environment/miniconda3/lib/python3.7/site-packages (from matplotlib) (2.8.2)\n",
      "Requirement already satisfied: pyparsing>=2.2.1 in /environment/miniconda3/lib/python3.7/site-packages (from matplotlib) (3.0.6)\n",
      "Requirement already satisfied: fonttools>=4.22.0 in /environment/miniconda3/lib/python3.7/site-packages (from matplotlib) (4.28.3)\n",
      "Requirement already satisfied: six>=1.5 in /environment/miniconda3/lib/python3.7/site-packages (from python-dateutil>=2.7->matplotlib) (1.16.0)\n",
      "Requirement already satisfied: tomli>=1.0.0 in /environment/miniconda3/lib/python3.7/site-packages (from setuptools-scm>=4->matplotlib) (1.2.2)\n",
      "Requirement already satisfied: setuptools in /environment/miniconda3/lib/python3.7/site-packages (from setuptools-scm>=4->matplotlib) (52.0.0.post20210125)\n",
      "Requirement already satisfied: typing_extensions in /environment/miniconda3/lib/python3.7/site-packages (from seaborn) (4.0.1)\n",
      "Requirement already satisfied: pandas>=0.25 in /environment/miniconda3/lib/python3.7/site-packages (from seaborn) (1.3.4)\n",
      "Requirement already satisfied: pytz>=2017.3 in /environment/miniconda3/lib/python3.7/site-packages (from pandas>=0.25->seaborn) (2021.3)\n"
     ]
    }
   ],
   "source": [
    "!pip install opencv-python pillow matplotlib seaborn tqdm -i https://pypi.tuna.tsinghua.edu.cn/simple"
   ]
  },
  {
   "cell_type": "markdown",
   "id": "0defb2f8-d5ab-4ee4-a66f-85cc17c221de",
   "metadata": {
    "tags": []
   },
   "source": [
    "## 下载 MMSegmentation"
   ]
  },
  {
   "cell_type": "code",
   "execution_count": 7,
   "id": "89026868-58b1-4755-aca3-ded98451e906",
   "metadata": {},
   "outputs": [],
   "source": [
    "# 删掉原有的 mmtracking 文件夹（如有）\n",
    "!rm -rf mmSegmentation"
   ]
  },
  {
   "cell_type": "code",
   "execution_count": 8,
   "id": "09c51fee-d040-46cf-8d86-c0248ab7fe84",
   "metadata": {},
   "outputs": [
    {
     "name": "stdout",
     "output_type": "stream",
     "text": [
      "正克隆到 'mmsegmentation'...\n",
      "remote: Enumerating objects: 11958, done.\u001b[K\n",
      "remote: Counting objects: 100% (87/87), done.\u001b[K\n",
      "remote: Compressing objects: 100% (63/63), done.\u001b[K\n",
      "remote: Total 11958 (delta 31), reused 54 (delta 23), pack-reused 11871\u001b[K\n",
      "接收对象中: 100% (11958/11958), 15.19 MiB | 511.00 KiB/s, 完成.\n",
      "处理 delta 中: 100% (8720/8720), 完成.\n"
     ]
    }
   ],
   "source": [
    "# 从 github 上下载最新的 mmsegmentation 源代码\n",
    "!git clone https://github.com/open-mmlab/mmsegmentation.git"
   ]
  },
  {
   "cell_type": "code",
   "execution_count": 9,
   "id": "b6a71270-f87b-4cf3-87f0-771f45f38c28",
   "metadata": {},
   "outputs": [],
   "source": [
    "# 进入主目录\n",
    "import os\n",
    "os.chdir('mmsegmentation')"
   ]
  },
  {
   "cell_type": "markdown",
   "id": "f1cd1922-e20a-459a-bf45-e826d8245d88",
   "metadata": {},
   "source": [
    "## 安装 MMSegmentation"
   ]
  },
  {
   "cell_type": "code",
   "execution_count": 10,
   "id": "21e78bae-1d33-478d-8b72-5e8584f6cadf",
   "metadata": {},
   "outputs": [
    {
     "name": "stdout",
     "output_type": "stream",
     "text": [
      "Using pip 21.1.3 from /environment/miniconda3/lib/python3.7/site-packages/pip (python 3.7)\n",
      "Non-user install because site-packages writeable\n",
      "Created temporary directory: /tmp/pip-ephem-wheel-cache-485cd4yv\n",
      "Created temporary directory: /tmp/pip-req-tracker-yenmuhk9\n",
      "Initialized build tracking at /tmp/pip-req-tracker-yenmuhk9\n",
      "Created build tracker: /tmp/pip-req-tracker-yenmuhk9\n",
      "Entered build tracker: /tmp/pip-req-tracker-yenmuhk9\n",
      "Created temporary directory: /tmp/pip-install-08rkr__w\n",
      "Looking in indexes: https://pypi.tuna.tsinghua.edu.cn/simple\n",
      "Obtaining file:///home/featurize/work/MMSegmentation%E6%95%99%E7%A8%8B/mmsegmentation\n",
      "  Added file:///home/featurize/work/MMSegmentation%E6%95%99%E7%A8%8B/mmsegmentation to build tracker '/tmp/pip-req-tracker-yenmuhk9'\n",
      "    Running setup.py (path:/home/featurize/work/MMSegmentation教程/mmsegmentation/setup.py) egg_info for package from file:///home/featurize/work/MMSegmentation%E6%95%99%E7%A8%8B/mmsegmentation\n",
      "    Created temporary directory: /tmp/pip-pip-egg-info-5f_mo2ti\n",
      "    Running command python setup.py egg_info\n",
      "    running egg_info\n",
      "    creating /tmp/pip-pip-egg-info-5f_mo2ti/mmsegmentation.egg-info\n",
      "    writing /tmp/pip-pip-egg-info-5f_mo2ti/mmsegmentation.egg-info/PKG-INFO\n",
      "    writing dependency_links to /tmp/pip-pip-egg-info-5f_mo2ti/mmsegmentation.egg-info/dependency_links.txt\n",
      "    writing requirements to /tmp/pip-pip-egg-info-5f_mo2ti/mmsegmentation.egg-info/requires.txt\n",
      "    writing top-level names to /tmp/pip-pip-egg-info-5f_mo2ti/mmsegmentation.egg-info/top_level.txt\n",
      "    writing manifest file '/tmp/pip-pip-egg-info-5f_mo2ti/mmsegmentation.egg-info/SOURCES.txt'\n",
      "    reading manifest template 'MANIFEST.in'\n",
      "    warning: no files found matching 'mmseg/.mim/model-index.yml'\n",
      "    warning: no files found matching '*.py' under directory 'mmseg/.mim/configs'\n",
      "    warning: no files found matching '*.yml' under directory 'mmseg/.mim/configs'\n",
      "    warning: no files found matching '*.py' under directory 'mmseg/.mim/tools'\n",
      "    warning: no files found matching '*.sh' under directory 'mmseg/.mim/tools'\n",
      "    writing manifest file '/tmp/pip-pip-egg-info-5f_mo2ti/mmsegmentation.egg-info/SOURCES.txt'\n",
      "  Source in /home/featurize/work/MMSegmentation教程/mmsegmentation has version 0.29.0, which satisfies requirement mmsegmentation==0.29.0 from file:///home/featurize/work/MMSegmentation%E6%95%99%E7%A8%8B/mmsegmentation\n",
      "  Removed mmsegmentation==0.29.0 from file:///home/featurize/work/MMSegmentation%E6%95%99%E7%A8%8B/mmsegmentation from build tracker '/tmp/pip-req-tracker-yenmuhk9'\n",
      "Requirement already satisfied: matplotlib in /environment/miniconda3/lib/python3.7/site-packages (from mmsegmentation==0.29.0) (3.5.0)\n",
      "1 location(s) to search for versions of mmcls:\n",
      "* https://pypi.tuna.tsinghua.edu.cn/simple/mmcls/\n",
      "Fetching project page and analyzing links: https://pypi.tuna.tsinghua.edu.cn/simple/mmcls/\n",
      "Getting page https://pypi.tuna.tsinghua.edu.cn/simple/mmcls/\n",
      "Found index url https://pypi.tuna.tsinghua.edu.cn/simple\n",
      "Looking up \"https://pypi.tuna.tsinghua.edu.cn/simple/mmcls/\" in the cache\n",
      "Request header has \"max_age\" as 0, cache bypassed\n",
      "Starting new HTTPS connection (1): pypi.tuna.tsinghua.edu.cn:443\n",
      "https://pypi.tuna.tsinghua.edu.cn:443 \"GET /simple/mmcls/ HTTP/1.1\" 200 None\n",
      "Updating cache with response from \"https://pypi.tuna.tsinghua.edu.cn/simple/mmcls/\"\n",
      "Caching due to etag\n",
      "  Found link https://pypi.tuna.tsinghua.edu.cn/packages/85/9b/6ef2d4ffb70f560a7e6376916bd582af2500ab843e0412764a29a990f867/mmcls-0.10.0-py2.py3-none-any.whl#sha256=4e7715f30d0da65d29c275d1abf915db5946b6514f36f389e2a676d28d4a3502 (from https://pypi.tuna.tsinghua.edu.cn/simple/mmcls/), version: 0.10.0\n",
      "  Found link https://pypi.tuna.tsinghua.edu.cn/packages/f6/d0/c4202ab4a4b1e367e01dd43a2d44bb39503bdea6bb15a37f5e41db855228/mmcls-0.10.0.tar.gz#sha256=84a2af00233e034452cebf50c7582ff357a26a618c648611b8d4cc8511ce463f (from https://pypi.tuna.tsinghua.edu.cn/simple/mmcls/), version: 0.10.0\n",
      "  Found link https://pypi.tuna.tsinghua.edu.cn/packages/5e/f7/a650cd9c2506bd723aa7fafb12b40e0d53410a84e5b1cd2e974971b606af/mmcls-0.11.0-py2.py3-none-any.whl#sha256=c914e5cfdc340ca630a178d3f5684100201124d9a0476575bcb91f9c28234760 (from https://pypi.tuna.tsinghua.edu.cn/simple/mmcls/), version: 0.11.0\n",
      "  Found link https://pypi.tuna.tsinghua.edu.cn/packages/08/d0/f5386b66f92c7fa871377cf88f097adc02d67f066a518359b0b9555c0fa7/mmcls-0.11.0.tar.gz#sha256=8d5f527a8f32b4c07b0e13295e6578e210e114759a52d3ae41a87faafa8e34bf (from https://pypi.tuna.tsinghua.edu.cn/simple/mmcls/), version: 0.11.0\n",
      "  Found link https://pypi.tuna.tsinghua.edu.cn/packages/3a/2f/81cf1b258ba43ce741487e6c3d66dbd65e24e26540d36246d0abac6d3d9f/mmcls-0.11.1-py2.py3-none-any.whl#sha256=45b6926b57c76a492f29a943e7bc4fdd67d09cf33c69cf8e5edad57e8ed197ff (from https://pypi.tuna.tsinghua.edu.cn/simple/mmcls/), version: 0.11.1\n",
      "  Found link https://pypi.tuna.tsinghua.edu.cn/packages/40/41/80ff30a794b5b8725592aed3f5a5cbc564b216e6c5144df86dca27fbd7b0/mmcls-0.11.1.tar.gz#sha256=f8d2a2f011f6230637c7662192854602007c5bcd7e3c5c30666069868a9dedb6 (from https://pypi.tuna.tsinghua.edu.cn/simple/mmcls/), version: 0.11.1\n",
      "  Found link https://pypi.tuna.tsinghua.edu.cn/packages/3a/ad/1ccf8f11d22fffedad33a7078c905daa4ccb96e39954ea72aa90d62b7930/mmcls-0.12.0-py2.py3-none-any.whl#sha256=92fbe371f604cb93e7d7c1bc2ded486f08ba14611d6ad978446c7191834cac4d (from https://pypi.tuna.tsinghua.edu.cn/simple/mmcls/), version: 0.12.0\n",
      "  Found link https://pypi.tuna.tsinghua.edu.cn/packages/b6/0a/7dd6c6fa4c27d569df3edaf89be42a869c8af2a849f98c83027145345f41/mmcls-0.12.0.tar.gz#sha256=688a9493bacaf9e5e7e26faf5161e72b70047fe74d3caaa1659b1debfbde1145 (from https://pypi.tuna.tsinghua.edu.cn/simple/mmcls/), version: 0.12.0\n",
      "  Found link https://pypi.tuna.tsinghua.edu.cn/packages/f6/33/7ba1b7a234d3c60b4282ea85adcc438c43eb3a2bf92ee9bdaf69a176d723/mmcls-0.13.0-py2.py3-none-any.whl#sha256=fef1d14f2d05abd9f360ed8855a5bbe87e0b71e3b46030ec6d289f17f9dcc8fe (from https://pypi.tuna.tsinghua.edu.cn/simple/mmcls/), version: 0.13.0\n",
      "  Found link https://pypi.tuna.tsinghua.edu.cn/packages/24/12/e6da3e76009c3e34d674e2a640d220f3d371810b03e107c0bb6e2d0d4c4f/mmcls-0.13.0.tar.gz#sha256=cf7eb142f6889f6c7075d5823fc60cceabc5c876e82466b85d3d4eed8d3ee1f2 (from https://pypi.tuna.tsinghua.edu.cn/simple/mmcls/), version: 0.13.0\n",
      "  Found link https://pypi.tuna.tsinghua.edu.cn/packages/fa/dd/2dfe7501ee91d7bae96bd88b38860fe7b4cb5811ecd19325bbdc07c0094a/mmcls-0.14.0-py2.py3-none-any.whl#sha256=328975a828aa49e33995b98eb59b47ddd74dd83ea5c097a2899098c84a66b5c8 (from https://pypi.tuna.tsinghua.edu.cn/simple/mmcls/), version: 0.14.0\n",
      "  Found link https://pypi.tuna.tsinghua.edu.cn/packages/1e/13/dc005f6c08c753041a4ce12e08e8bac191dc3edd64da7e95c3c45c18ab77/mmcls-0.14.0.tar.gz#sha256=30986dd543c87a56791580ef000b1bfc2fbba1ae916cf454d403ddddf0785d55 (from https://pypi.tuna.tsinghua.edu.cn/simple/mmcls/), version: 0.14.0\n",
      "  Found link https://pypi.tuna.tsinghua.edu.cn/packages/6f/c6/2d4d8677435bc3b4fc843df859d28d9460c9f5bf281eab390076bbc41a60/mmcls-0.15.0-py2.py3-none-any.whl#sha256=32a3923c3d312a5c5c17a1bc25dae0b1a2cf9c2c6642d47161e4e0a2eddeff44 (from https://pypi.tuna.tsinghua.edu.cn/simple/mmcls/), version: 0.15.0\n",
      "  Found link https://pypi.tuna.tsinghua.edu.cn/packages/2e/82/d7d543c2572750b8783492e99fd4e464a5cbbf0e8e1b739d0b4e7ff7a86c/mmcls-0.15.0.tar.gz#sha256=17f4210ae4c45deb614146385c0ed34678e121aa8ad59f287c2fb73a7886c8f8 (from https://pypi.tuna.tsinghua.edu.cn/simple/mmcls/), version: 0.15.0\n",
      "  Found link https://pypi.tuna.tsinghua.edu.cn/packages/d6/92/a639941d9a2d9d45912cfa7aae3c6277050a4f4fb8231f2ae27cd6812855/mmcls-0.16.0-py2.py3-none-any.whl#sha256=8d29ec9eab98c2dcc23cae00607357b67993e600c3402223c18b7aa55e9f8011 (from https://pypi.tuna.tsinghua.edu.cn/simple/mmcls/), version: 0.16.0\n",
      "  Found link https://pypi.tuna.tsinghua.edu.cn/packages/63/cc/2bdfb7c10c8ae1d5f0dd6f350b163cd8181481ff1662b2bbf5eb08d0da83/mmcls-0.16.0.tar.gz#sha256=6dcead18234aa2ad8b8c38842f85fb41f1604a8df7150cca913fa4a36b9ec378 (from https://pypi.tuna.tsinghua.edu.cn/simple/mmcls/), version: 0.16.0\n",
      "  Found link https://pypi.tuna.tsinghua.edu.cn/packages/11/ff/4c55b0e7257d4bdc249cdb24e2da0651d59d6be687d719913eeaaea429d5/mmcls-0.17.0-py2.py3-none-any.whl#sha256=7982c36a032fdaa1c1fe0bcd555a6106d4ccde6a721800447ab560d15e326468 (from https://pypi.tuna.tsinghua.edu.cn/simple/mmcls/), version: 0.17.0\n",
      "  Found link https://pypi.tuna.tsinghua.edu.cn/packages/be/f5/1cc2fb292fdd853360f017837688f4b1c3b656a5616db3b97efd63f148bd/mmcls-0.17.0.tar.gz#sha256=50b532feb3547bd2bebb4d3742860ce645072b3945071de3f634cad1f75c2993 (from https://pypi.tuna.tsinghua.edu.cn/simple/mmcls/), version: 0.17.0\n",
      "  Found link https://pypi.tuna.tsinghua.edu.cn/packages/d4/81/7a5712a5b393a02a49148a184ab7dc6c192f6adeee4ce17ff1958e06b230/mmcls-0.18.0-py2.py3-none-any.whl#sha256=267f028de581b60cad6a1fd29b221eaa62c64720516239be1e6de78111a86003 (from https://pypi.tuna.tsinghua.edu.cn/simple/mmcls/), version: 0.18.0\n",
      "  Found link https://pypi.tuna.tsinghua.edu.cn/packages/30/65/9e90ced0c0a7bef6947819838bf3e8d787be63435831d979744e0ba102ec/mmcls-0.18.0.tar.gz#sha256=5b0584ae0682b110a3ce154d3249fabc7b4f428633472122325165d2641adf5b (from https://pypi.tuna.tsinghua.edu.cn/simple/mmcls/), version: 0.18.0\n",
      "  Found link https://pypi.tuna.tsinghua.edu.cn/packages/21/43/c43508f8932ae074809a6a2b76bdf12841309697a851f4e68087e3618d19/mmcls-0.19.0-py2.py3-none-any.whl#sha256=9d3f7b9cb44c3a04af78f16cdd450b5a5b39b8a1f943553bce94c7b2d9553992 (from https://pypi.tuna.tsinghua.edu.cn/simple/mmcls/), version: 0.19.0\n",
      "  Found link https://pypi.tuna.tsinghua.edu.cn/packages/77/3a/6c7bd85c96b8a18f68d0177972882d3cb6e55c143997abc55f3c29ff7a34/mmcls-0.19.0.tar.gz#sha256=a93f3191b33ab587fb1d31148c76341832f70ce1a6395201cee71682bf853d40 (from https://pypi.tuna.tsinghua.edu.cn/simple/mmcls/), version: 0.19.0\n",
      "  Found link https://pypi.tuna.tsinghua.edu.cn/packages/19/31/f6f553ce0967104308adb2d5d6fe8ea1d000b9deca698791586ac3a13672/mmcls-0.20.0-py2.py3-none-any.whl#sha256=bce0499fd5efc5b7f0bb91097a58280480b49a908be231dfe7bbf3dd742237eb (from https://pypi.tuna.tsinghua.edu.cn/simple/mmcls/), version: 0.20.0\n",
      "  Found link https://pypi.tuna.tsinghua.edu.cn/packages/79/d8/bd6cc771cc3bfedc665008110752ad49c5344fee9b73ed8e42bfa806cf89/mmcls-0.20.0.tar.gz#sha256=6c57107ec4eccba8304ca561aea88f8350629ebb692d9d1321267ee0883b30cd (from https://pypi.tuna.tsinghua.edu.cn/simple/mmcls/), version: 0.20.0\n",
      "  Found link https://pypi.tuna.tsinghua.edu.cn/packages/f6/f6/9464bc39ea63e33b64d4ba1d33df2d83e35f674640ba71b74e2c910ec5e0/mmcls-0.20.1-py2.py3-none-any.whl#sha256=7cc4bc91f87af87114fcc8e71c984fe53b5318fd8aea438bb5557dd27ca192cb (from https://pypi.tuna.tsinghua.edu.cn/simple/mmcls/), version: 0.20.1\n",
      "  Found link https://pypi.tuna.tsinghua.edu.cn/packages/17/0b/aeb8a0e039e588bfaa212025ea38a37b6b44caaa44459c1ad10ec6108d80/mmcls-0.20.1.tar.gz#sha256=28460b4ae32efd6baaf532ead8d9de9426486511815a8a6cc13b6f05a410e987 (from https://pypi.tuna.tsinghua.edu.cn/simple/mmcls/), version: 0.20.1\n",
      "  Found link https://pypi.tuna.tsinghua.edu.cn/packages/ef/c8/b319cb91649b0c2649a3c7446630ddba002c5754d156a5468e323c227da6/mmcls-0.21.0-py2.py3-none-any.whl#sha256=02a3c1186d100f4dbb5c5f99138499ebfcc2110cca447ae0938ed046c76a6e98 (from https://pypi.tuna.tsinghua.edu.cn/simple/mmcls/), version: 0.21.0\n",
      "  Found link https://pypi.tuna.tsinghua.edu.cn/packages/d6/1c/918b7f8d566c0bf9240699b083f44c6d2e6f6d411b9bd57f25a7843e3a7e/mmcls-0.21.0.tar.gz#sha256=29b3e63cad030fba008325d05868ec28a20b9f1904fcbca09ff2a579285ca6c4 (from https://pypi.tuna.tsinghua.edu.cn/simple/mmcls/), version: 0.21.0\n",
      "  Found link https://pypi.tuna.tsinghua.edu.cn/packages/99/32/233363eaa9a0a71f6b3d9689dd4c06bd96bccae80cd008419a60435c296f/mmcls-0.22.0-py2.py3-none-any.whl#sha256=d5a60bb4dab36f2a31248049dc57d933c147c556d1d2e4c7e172650ab1547bb2 (from https://pypi.tuna.tsinghua.edu.cn/simple/mmcls/), version: 0.22.0\n",
      "  Found link https://pypi.tuna.tsinghua.edu.cn/packages/0d/7f/e94ed849e560174f9ff880e916c65a2496b552b3fc1a944cc0a2ae26c08d/mmcls-0.22.0.tar.gz#sha256=62bb8b2c8431271d1d026522d2c2aaf658bb4ebb28d4ae224b4f8aa57eabd3da (from https://pypi.tuna.tsinghua.edu.cn/simple/mmcls/), version: 0.22.0\n",
      "  Found link https://pypi.tuna.tsinghua.edu.cn/packages/c8/69/6b614906fd2a4fba4164f80b4490fb0ab1c9a8338b170ab877aaab791bc6/mmcls-0.22.1-py2.py3-none-any.whl#sha256=6c41f1e11d125d593e7f7d680489984e14d02694d3ecb52fede8fa65b5398b90 (from https://pypi.tuna.tsinghua.edu.cn/simple/mmcls/), version: 0.22.1\n",
      "  Found link https://pypi.tuna.tsinghua.edu.cn/packages/e3/f3/b37706eb449b1e529e1deea952f68e29ec394995d07100467b261a16c047/mmcls-0.22.1.tar.gz#sha256=de6cf99c92b11f01e966e0691827fa21392d33c41106253bd148fec23d75a696 (from https://pypi.tuna.tsinghua.edu.cn/simple/mmcls/), version: 0.22.1\n",
      "  Found link https://pypi.tuna.tsinghua.edu.cn/packages/82/df/49b63e1e43b483697005c48752a8609fabb5303225db02781bd9e4a04111/mmcls-0.23.0-py2.py3-none-any.whl#sha256=bd0c31f2540f3a76353fb0154281df5ac4cc6e2661e5d32789ba010a8db16dc3 (from https://pypi.tuna.tsinghua.edu.cn/simple/mmcls/), version: 0.23.0\n",
      "  Found link https://pypi.tuna.tsinghua.edu.cn/packages/46/e5/a409566de449f288cc947d8ea1eb2fd0b98492bd975110d95b290158a452/mmcls-0.23.0.tar.gz#sha256=b09ffa12678dff3fee91d52318874e77394165a6ab9fbbf27a494114da262ef8 (from https://pypi.tuna.tsinghua.edu.cn/simple/mmcls/), version: 0.23.0\n",
      "  Found link https://pypi.tuna.tsinghua.edu.cn/packages/16/2d/c50efb993f6f14f13631a10a72f72135fd47ae4173c60a8c120095d1bc7e/mmcls-0.23.1-py2.py3-none-any.whl#sha256=dc2e72572859a9f137251648c8a6f5e38f13101d1dba72eb2eb6ed9add5c8e84 (from https://pypi.tuna.tsinghua.edu.cn/simple/mmcls/), version: 0.23.1\n",
      "  Found link https://pypi.tuna.tsinghua.edu.cn/packages/ac/0f/5bdf838c82c1f7165aadb4a7518f081263c20e4f76efd4e3eb58e1523ce4/mmcls-0.23.1.tar.gz#sha256=195345f6301f8fb095598dc51f35ff2f75feeded2aded90c09f311582b3cbba3 (from https://pypi.tuna.tsinghua.edu.cn/simple/mmcls/), version: 0.23.1\n",
      "  Found link https://pypi.tuna.tsinghua.edu.cn/packages/1e/41/7c5c3ae3f1f8c520876f215bad585a815b040d75a860a0003d50232179bb/mmcls-0.23.2-py2.py3-none-any.whl#sha256=bad7c8511f5d7ac61318c14070e857501bc4efa49903453c7d775f4aec90c4e2 (from https://pypi.tuna.tsinghua.edu.cn/simple/mmcls/), version: 0.23.2\n",
      "  Found link https://pypi.tuna.tsinghua.edu.cn/packages/01/3f/2f2a9bfd89ab58627889aa3853db0cd2c2fff3ec807adec5afd53b47efef/mmcls-0.23.2.tar.gz#sha256=efae89826d0f217b103a0cbf5bec8b0527a50fd581201742b7906c5235a98ddd (from https://pypi.tuna.tsinghua.edu.cn/simple/mmcls/), version: 0.23.2\n",
      "  Found link https://pypi.tuna.tsinghua.edu.cn/packages/dd/70/0a4058f419c62428df3f8bfaf567e450f090c29699b056d06eba2b43d8bd/mmcls-0.24.0-py2.py3-none-any.whl#sha256=79a9b19df2445f808e085dd0239864aa93692144f681cd4f9cd01f713d332f86 (from https://pypi.tuna.tsinghua.edu.cn/simple/mmcls/), version: 0.24.0\n",
      "  Found link https://pypi.tuna.tsinghua.edu.cn/packages/27/9a/dfbc780b7b67d21344c0188ba467a4e9b4392434a72b137f0867c8bf8890/mmcls-0.24.0.tar.gz#sha256=f2f38eae127f49957ab481724123032cf3f5caf527e8d1c8ff504ab15d1e0c35 (from https://pypi.tuna.tsinghua.edu.cn/simple/mmcls/), version: 0.24.0\n",
      "  Found link https://pypi.tuna.tsinghua.edu.cn/packages/8e/9a/1a1aab4f1bc2ad38f2c1dd632bddd4c9e48bba62cbde6d9129329c556726/mmcls-0.6.0-py2.py3-none-any.whl#sha256=edab9cf3d5ff6ab488eaabf0260e37abadaf0178973017bf1adfce8d7ec28000 (from https://pypi.tuna.tsinghua.edu.cn/simple/mmcls/), version: 0.6.0\n",
      "  Found link https://pypi.tuna.tsinghua.edu.cn/packages/7b/7e/2e82d753ae85f95cbf702913b516c6738a90bfbf349a86df65b207b10446/mmcls-0.6.0.tar.gz#sha256=fe720a38e7f33c7f0a009a554798ba0082754d32b668f96de8b8ec2e9d579f7e (from https://pypi.tuna.tsinghua.edu.cn/simple/mmcls/), version: 0.6.0\n",
      "  Found link https://pypi.tuna.tsinghua.edu.cn/packages/89/da/6e629aaf9c14fecef6c369409edc2c4d4d9402793d9552efd0eedd30cb0b/mmcls-0.7.0-py2.py3-none-any.whl#sha256=04e0b454e95a01f8ced043492394e023ea9d856e099f79b4fa79a29a1090d4ba (from https://pypi.tuna.tsinghua.edu.cn/simple/mmcls/), version: 0.7.0\n",
      "  Found link https://pypi.tuna.tsinghua.edu.cn/packages/fe/65/5c4f601c85067788cdad1541f2af11fad1d0608fc30cac70bdbc015b9b1a/mmcls-0.7.0.tar.gz#sha256=7aad71c77ed631499c3c32b630cd6b93050df7cacef1465d6ea80cde0ab679d9 (from https://pypi.tuna.tsinghua.edu.cn/simple/mmcls/), version: 0.7.0\n",
      "  Found link https://pypi.tuna.tsinghua.edu.cn/packages/82/f9/98c2a039c9a93a8dd92965f1805d1c378e5dd1e5f411c5b254253a3c49b6/mmcls-0.8.0-py2.py3-none-any.whl#sha256=90edf229fafcb463bfb6682d20680b1ad494c33f3c2f8fcf55333059784fb9cd (from https://pypi.tuna.tsinghua.edu.cn/simple/mmcls/), version: 0.8.0\n",
      "  Found link https://pypi.tuna.tsinghua.edu.cn/packages/8b/fe/c42e1eafa4cf3ce8f83278b5c5e4bf52106c8a4745e5b46cd720d77e40a5/mmcls-0.8.0.tar.gz#sha256=56df1cda187e981e687cac50743a66e7de8af53b3ee1c94007fb5118374bebd6 (from https://pypi.tuna.tsinghua.edu.cn/simple/mmcls/), version: 0.8.0\n",
      "  Found link https://pypi.tuna.tsinghua.edu.cn/packages/1b/06/6327a2a89f7ec1e4e89d2bb361f73e8ef2ef01c46fe7971711f0d8e89344/mmcls-0.9.0-py2.py3-none-any.whl#sha256=c3e74a4a5f54bc1d1ce98524bbd41378de551f3f37b6ffceebb008e1e8adb6cc (from https://pypi.tuna.tsinghua.edu.cn/simple/mmcls/), version: 0.9.0\n",
      "  Found link https://pypi.tuna.tsinghua.edu.cn/packages/a8/50/9f4928b12eb757f270711718227e898a8f36f80bb93a657d37fd25191044/mmcls-0.9.0.tar.gz#sha256=cab5d0edea2020937b348898cd9bf39d2706412bb190b20023276da7863d88bb (from https://pypi.tuna.tsinghua.edu.cn/simple/mmcls/), version: 0.9.0\n",
      "  Found link https://pypi.tuna.tsinghua.edu.cn/packages/89/02/85762d6cda7026bb3c7fe51710d4af2dbb876edcf40c96b380d964707a31/mmcls-1.0.0rc0-py2.py3-none-any.whl#sha256=c3139572f65186394904ec80fadbd1636ac1d1a02f4c3222e50fcf791b285490 (from https://pypi.tuna.tsinghua.edu.cn/simple/mmcls/), version: 1.0.0rc0\n",
      "  Found link https://pypi.tuna.tsinghua.edu.cn/packages/c3/55/e3e3498973fd866ad23b01a2bbc6c84a7d872ba447fb6b46eb13affac864/mmcls-1.0.0rc0.tar.gz#sha256=9d399519136ca32d181169bd448e1659e3dbbadb7df0fcd2dcc4de0064f09dc7 (from https://pypi.tuna.tsinghua.edu.cn/simple/mmcls/), version: 1.0.0rc0\n",
      "  Found link https://pypi.tuna.tsinghua.edu.cn/packages/8e/10/7d7b14c800b9cc6b903ccc8e486435fa70300e8b2427a2c7588de15d97ab/mmcls-1.0.0rc1-py2.py3-none-any.whl#sha256=ff084bd1d9f13ce63721bed7e80a2baaa3eeb43ecd3e4d9f7dfc08dc1a38de68 (from https://pypi.tuna.tsinghua.edu.cn/simple/mmcls/), version: 1.0.0rc1\n",
      "  Found link https://pypi.tuna.tsinghua.edu.cn/packages/b6/a4/0efb2954594d4ce9eeefde39d9725e284f46c3c4c4411c6b2bc47141d537/mmcls-1.0.0rc1.tar.gz#sha256=f46a239d55a7198527efe43a67604041ef4e1f524a165cbc69ca65eb38e99bc0 (from https://pypi.tuna.tsinghua.edu.cn/simple/mmcls/), version: 1.0.0rc1\n",
      "  Found link https://pypi.tuna.tsinghua.edu.cn/packages/14/b3/4b5861b1a32e53da268902ead536981c5477a563b8e4af092a5637ccc643/mmcls-1.0.0rc2-py2.py3-none-any.whl#sha256=9d57ab50819b2acaa6864679fc9a8bee6b329a8a62fae199a02233b51c8d4841 (from https://pypi.tuna.tsinghua.edu.cn/simple/mmcls/), version: 1.0.0rc2\n",
      "  Found link https://pypi.tuna.tsinghua.edu.cn/packages/db/71/4f51220c02cc297134482147882669c57af81fb8c005ce5af922fb8195e2/mmcls-1.0.0rc2.tar.gz#sha256=b9324a7505745c0a5c322e8ce3141922fd9a1ba916dd6f004fa4e96bbb4dcf2b (from https://pypi.tuna.tsinghua.edu.cn/simple/mmcls/), version: 1.0.0rc2\n",
      "Skipping link: not a file: https://pypi.tuna.tsinghua.edu.cn/simple/mmcls/\n",
      "Given no hashes to check 16 links for project 'mmcls': discarding no candidates\n",
      "Collecting mmcls>=0.20.1\n",
      "  Created temporary directory: /tmp/pip-unpack-4ugwx6bs\n",
      "  Looking up \"https://pypi.tuna.tsinghua.edu.cn/packages/dd/70/0a4058f419c62428df3f8bfaf567e450f090c29699b056d06eba2b43d8bd/mmcls-0.24.0-py2.py3-none-any.whl\" in the cache\n",
      "  No cache entry available\n",
      "  https://pypi.tuna.tsinghua.edu.cn:443 \"GET /packages/dd/70/0a4058f419c62428df3f8bfaf567e450f090c29699b056d06eba2b43d8bd/mmcls-0.24.0-py2.py3-none-any.whl HTTP/1.1\" 200 647816\n",
      "  Downloading https://pypi.tuna.tsinghua.edu.cn/packages/dd/70/0a4058f419c62428df3f8bfaf567e450f090c29699b056d06eba2b43d8bd/mmcls-0.24.0-py2.py3-none-any.whl (647 kB)\n",
      "\u001b[K     |███████████████████████████████▉| 645 kB 69.1 MB/s eta 0:00:01  Updating cache with response from \"https://pypi.tuna.tsinghua.edu.cn/packages/dd/70/0a4058f419c62428df3f8bfaf567e450f090c29699b056d06eba2b43d8bd/mmcls-0.24.0-py2.py3-none-any.whl\"\n",
      "\u001b[K     |████████████████████████████████| 647 kB 69.1 MB/s \n",
      "\u001b[?25h  Added mmcls>=0.20.1 from https://pypi.tuna.tsinghua.edu.cn/packages/dd/70/0a4058f419c62428df3f8bfaf567e450f090c29699b056d06eba2b43d8bd/mmcls-0.24.0-py2.py3-none-any.whl#sha256=79a9b19df2445f808e085dd0239864aa93692144f681cd4f9cd01f713d332f86 (from mmsegmentation==0.29.0) to build tracker '/tmp/pip-req-tracker-yenmuhk9'\n",
      "  Removed mmcls>=0.20.1 from https://pypi.tuna.tsinghua.edu.cn/packages/dd/70/0a4058f419c62428df3f8bfaf567e450f090c29699b056d06eba2b43d8bd/mmcls-0.24.0-py2.py3-none-any.whl#sha256=79a9b19df2445f808e085dd0239864aa93692144f681cd4f9cd01f713d332f86 (from mmsegmentation==0.29.0) from build tracker '/tmp/pip-req-tracker-yenmuhk9'\n",
      "Requirement already satisfied: numpy in /environment/miniconda3/lib/python3.7/site-packages (from mmsegmentation==0.29.0) (1.21.4)\n",
      "Requirement already satisfied: packaging in /environment/miniconda3/lib/python3.7/site-packages (from mmsegmentation==0.29.0) (21.3)\n",
      "1 location(s) to search for versions of prettytable:\n",
      "* https://pypi.tuna.tsinghua.edu.cn/simple/prettytable/\n",
      "Fetching project page and analyzing links: https://pypi.tuna.tsinghua.edu.cn/simple/prettytable/\n",
      "Getting page https://pypi.tuna.tsinghua.edu.cn/simple/prettytable/\n",
      "Found index url https://pypi.tuna.tsinghua.edu.cn/simple\n",
      "Looking up \"https://pypi.tuna.tsinghua.edu.cn/simple/prettytable/\" in the cache\n",
      "Request header has \"max_age\" as 0, cache bypassed\n",
      "https://pypi.tuna.tsinghua.edu.cn:443 \"GET /simple/prettytable/ HTTP/1.1\" 200 None\n",
      "Updating cache with response from \"https://pypi.tuna.tsinghua.edu.cn/simple/prettytable/\"\n",
      "Caching due to etag\n",
      "  Skipping link: unsupported archive format: .egg: https://pypi.tuna.tsinghua.edu.cn/packages/aa/2d/6dda982fc3ff451d06b5840a4722b1ddd6d611c05af26241f660ea1da598/prettytable-0.1-py2.6.egg#sha256=4b78eaacea36bf7321d72bbd6c5ae5b8d9b243b7fabb9c6a5d7bce1e6360b0c5 (from https://pypi.tuna.tsinghua.edu.cn/simple/prettytable/)\n",
      "  Skipping link: unsupported archive format: .egg: https://pypi.tuna.tsinghua.edu.cn/packages/fc/96/15c68452c4b59791edf3e1f2527cde7199a4d7b6cc673bb94bc60d86dd55/prettytable-0.2-py2.6.egg#sha256=7ace8226edca26af6ddbed83c64c15f8188fe183581e2e59c68826ccbe28e1ce (from https://pypi.tuna.tsinghua.edu.cn/simple/prettytable/)\n",
      "  Skipping link: unsupported archive format: .egg: https://pypi.tuna.tsinghua.edu.cn/packages/04/d5/942a2bbaca693ff7942590f51959b8dd12a760598e4c98d95a31c4b2d991/prettytable-0.2.1-py2.6.egg#sha256=15d51ec1aca83a8b6513f3b220619063382d4ff45953f944bf86beca8a647796 (from https://pypi.tuna.tsinghua.edu.cn/simple/prettytable/)\n",
      "  Skipping link: unsupported archive format: .egg: https://pypi.tuna.tsinghua.edu.cn/packages/cb/2b/89865a1d735309404c092f6ac99dba1c5b1cb2ab832b7825d24d63312943/prettytable-0.3-py2.6.egg#sha256=04fc99a3ab8e9a6e62c5c8741d334a05229378c8c79ea3df8a8c0d09b1b4c66e (from https://pypi.tuna.tsinghua.edu.cn/simple/prettytable/)\n",
      "  Found link https://pypi.tuna.tsinghua.edu.cn/packages/56/e4/e21204d3a9757b64a79f3a9800056676f57f9c5f70245ce53b7012e31546/prettytable-0.3.tar.gz#sha256=1523ea10d9c6de00986b3b48144a8aeff734378f2be22570c90e07c207c8207a (from https://pypi.tuna.tsinghua.edu.cn/simple/prettytable/), version: 0.3\n",
      "  Found link https://pypi.tuna.tsinghua.edu.cn/packages/24/10/c9c6551e075154a7e78108cbb52db44965fe0e6800b271b76beeaffa0d15/prettytable-0.3.zip#sha256=892974c5e8fac7c8d73a5826e17777299ebf89fec03b00a98fefd9b2d2e199c5 (from https://pypi.tuna.tsinghua.edu.cn/simple/prettytable/), version: 0.3\n",
      "  Found link https://pypi.tuna.tsinghua.edu.cn/packages/30/a5/43f03a549f9235e390c9fd6a081082f9c55c38b450969136b40d7122590a/prettytable-0.4.tar.gz#sha256=29cb18d581a13fb276eac068cf3d264b2591a3c2b3499b97a6111358c4fa3ac8 (from https://pypi.tuna.tsinghua.edu.cn/simple/prettytable/), version: 0.4\n",
      "  Found link https://pypi.tuna.tsinghua.edu.cn/packages/24/42/6a030394c00c62b8a51093189fa287dff0aa598d695c36a276aa1b4f7ff8/prettytable-0.4.zip#sha256=e6c7f46b6ba3089d69ab5330ee8b4402eb14e2c54d9d29d6502ce333718b143e (from https://pypi.tuna.tsinghua.edu.cn/simple/prettytable/), version: 0.4\n",
      "  Found link https://pypi.tuna.tsinghua.edu.cn/packages/06/07/fcfe808e157da9cc442ada347532c6ef5c31c23a594e6b0ddf8f35475f31/prettytable-0.5.tar.gz#sha256=52dbc76b9fdc53f6386ce9380a93653dbff20717296605449b86a73f426b7d8b (from https://pypi.tuna.tsinghua.edu.cn/simple/prettytable/), version: 0.5\n",
      "  Found link https://pypi.tuna.tsinghua.edu.cn/packages/06/a1/fd7dfad67d52c005776458c97e2800114102e6cb9722526210868a48628c/prettytable-0.5.zip#sha256=a381ba555b8bf10e0b8e59c6c5743b30174ce77340defe880e6e30fe238c3906 (from https://pypi.tuna.tsinghua.edu.cn/simple/prettytable/), version: 0.5\n",
      "  Found link https://pypi.tuna.tsinghua.edu.cn/packages/b8/79/4808e86b6b77b0835cc973dbc737a79cb4575db5f10ea6b5d441f6b92ebd/prettytable-0.6.1.tar.bz2#sha256=7935bd8ae5c15b31703bd10eb4a0815288852dd6584e5e5eff33d1a3af6559b6 (from https://pypi.tuna.tsinghua.edu.cn/simple/prettytable/), version: 0.6.1\n",
      "  Found link https://pypi.tuna.tsinghua.edu.cn/packages/91/d4/9dee5e6d9ac63d2c6863caa8a91df650cedcb9119f1f5781b82526556eb5/prettytable-0.6.1.tar.gz#sha256=4085e520da758d6e22e115377ca5d3723f04fb186303879ab98277070444a9cb (from https://pypi.tuna.tsinghua.edu.cn/simple/prettytable/), version: 0.6.1\n",
      "  Found link https://pypi.tuna.tsinghua.edu.cn/packages/6f/84/2ab0fd71dbfd720eae77426b8901d5091d488810ba64c845d43d0faf738f/prettytable-0.6.1.zip#sha256=3f4c48d80af6d40d5a76dd1650dece386349d6df8b7b096fc8ec39fec21ceba7 (from https://pypi.tuna.tsinghua.edu.cn/simple/prettytable/), version: 0.6.1\n",
      "  Found link https://pypi.tuna.tsinghua.edu.cn/packages/f0/87/0b8f0498405bfa9ede62d00bcb0357e861afc14117791afbf07c1cd3fa86/prettytable-0.6.tar.bz2#sha256=babe57cb92d4a30185822521cbcfe40c7966db8e7de70c8e99614a9bee61182d (from https://pypi.tuna.tsinghua.edu.cn/simple/prettytable/), version: 0.6\n",
      "  Found link https://pypi.tuna.tsinghua.edu.cn/packages/dc/17/7054874b05bfb10edc956a9205b5c63c8e9b6d5d71bb7121265ab309b4df/prettytable-0.6.tar.gz#sha256=4758bfe9d2fe203e7620fb9e6493e5206861297ea089974be0fc32d4b00a780c (from https://pypi.tuna.tsinghua.edu.cn/simple/prettytable/), version: 0.6\n",
      "  Found link https://pypi.tuna.tsinghua.edu.cn/packages/dd/12/6b03e7731c51d5bfdbdea33c2107914cdc1c34bff1d03eb2853e7688f18a/prettytable-0.6.zip#sha256=cc107f07fa8373c82b84e8b12b2bd14d7ddf09558538b01b0d7ebbd83f8f427f (from https://pypi.tuna.tsinghua.edu.cn/simple/prettytable/), version: 0.6\n",
      "  Found link https://pypi.tuna.tsinghua.edu.cn/packages/ea/cc/f72eb63ea90fcca0a89eaa476e156205320b1ceefcd4ab37b8b83f5a9842/prettytable-0.7.1.tar.bz2#sha256=599bc5b4b9602e28294cf795733c889c26dd934aa7e0ee9cff9b905d4fbad188 (from https://pypi.tuna.tsinghua.edu.cn/simple/prettytable/), version: 0.7.1\n",
      "  Found link https://pypi.tuna.tsinghua.edu.cn/packages/ff/a4/6d21b97807e910d8a8523c6c20d53732a10cccee04a56e4ee80a77cca9e7/prettytable-0.7.1.tar.gz#sha256=686bda277474e5cc3cff02596d72c2d6f171170225af3dedffe78cbf958c6348 (from https://pypi.tuna.tsinghua.edu.cn/simple/prettytable/), version: 0.7.1\n",
      "  Found link https://pypi.tuna.tsinghua.edu.cn/packages/b9/a5/2bf4329f87105289a3b9bdd806baf0726f81a6b73dd429b5e6b1792cdcf2/prettytable-0.7.1.zip#sha256=0e0a9c663cdd2c084ca3090702a8449cae9e804d46ef29f0a909629467524ddb (from https://pypi.tuna.tsinghua.edu.cn/simple/prettytable/), version: 0.7.1\n",
      "  Found link https://pypi.tuna.tsinghua.edu.cn/packages/ef/30/4b0746848746ed5941f052479e7c23d2b56d174b82f4fd34a25e389831f5/prettytable-0.7.2.tar.bz2#sha256=853c116513625c738dc3ce1aee148b5b5757a86727e67eff6502c7ca59d43c36 (from https://pypi.tuna.tsinghua.edu.cn/simple/prettytable/), version: 0.7.2\n",
      "  Found link https://pypi.tuna.tsinghua.edu.cn/packages/e0/a1/36203205f77ccf98f3c6cf17cf068c972e6458d7e58509ca66da949ca347/prettytable-0.7.2.tar.gz#sha256=2d5460dc9db74a32bcc8f9f67de68b2c4f4d2f01fa3bd518764c69156d9cacd9 (from https://pypi.tuna.tsinghua.edu.cn/simple/prettytable/), version: 0.7.2\n",
      "  Found link https://pypi.tuna.tsinghua.edu.cn/packages/23/4a/9785a37ed6425918af69909af715ced0fa261e518601a0c70309a708fd08/prettytable-0.7.2.zip#sha256=a53da3b43d7a5c229b5e3ca2892ef982c46b7923b51e98f0db49956531211c4f (from https://pypi.tuna.tsinghua.edu.cn/simple/prettytable/), version: 0.7.2\n",
      "  Found link https://pypi.tuna.tsinghua.edu.cn/packages/cc/16/d40b604035012ec5ed0588098b876f5c433de66bb615db647743bcc45886/prettytable-1.0.0-py2.py3-none-any.whl#sha256=d3fa464010bf7fec9384d3ea1a1e14398a9e3f2f0c5d052219366897bf6cb19c (from https://pypi.tuna.tsinghua.edu.cn/simple/prettytable/) (requires-python:>=2.7, !=3.0.*, !=3.1.*, !=3.2.*, !=3.3.*, !=3.4.*), version: 1.0.0\n",
      "  Found link https://pypi.tuna.tsinghua.edu.cn/packages/39/c6/9e2067eef39a677367887d6e41a8d0332d9fcbb98878f52e9192ffbd748a/prettytable-1.0.0.tar.gz#sha256=98a3b74b1980e6a9392498e3a2a5406f6bd836f412843c2be23d9c88671747ac (from https://pypi.tuna.tsinghua.edu.cn/simple/prettytable/) (requires-python:>=2.7, !=3.0.*, !=3.1.*, !=3.2.*, !=3.3.*, !=3.4.*), version: 1.0.0\n",
      "  Found link https://pypi.tuna.tsinghua.edu.cn/packages/39/da/8336296a830caa495a25304e12ffb32a8c3a9d2d08ba995f066fe16152e1/prettytable-1.0.1-py2.py3-none-any.whl#sha256=e7e464e8f7ecfd9a74c67f8da35f2a7da3d827235ba0a4737bb6d4b19f4a04bb (from https://pypi.tuna.tsinghua.edu.cn/simple/prettytable/) (requires-python:>=2.7, !=3.0.*, !=3.1.*, !=3.2.*, !=3.3.*, !=3.4.*), version: 1.0.1\n",
      "  Found link https://pypi.tuna.tsinghua.edu.cn/packages/69/89/564e58a41c8593be42e2522c43adc29f8a0f387cccec6ea0038c02113f6d/prettytable-1.0.1.tar.gz#sha256=6bb7f539903cb031fecb855b615cbcac8cd245ebc6fa51c6e23ab3386db89771 (from https://pypi.tuna.tsinghua.edu.cn/simple/prettytable/) (requires-python:>=2.7, !=3.0.*, !=3.1.*, !=3.2.*, !=3.3.*, !=3.4.*), version: 1.0.1\n",
      "  Found link https://pypi.tuna.tsinghua.edu.cn/packages/94/d5/52e48f3bcf66f838d411ad85c3ac9550c2451d082623e2d4d4df7411ed5c/prettytable-2.0.0-py3-none-any.whl#sha256=5dc7fcaca227f48deacd86958ae9d7b8c31a186fcb354bbb066763f20adf3eb9 (from https://pypi.tuna.tsinghua.edu.cn/simple/prettytable/) (requires-python:>=3.6), version: 2.0.0\n",
      "  Found link https://pypi.tuna.tsinghua.edu.cn/packages/78/dc/96f8633fcd49fad2189dd57918ff410627818ff3ebe1649678d8ac2e7126/prettytable-2.0.0.tar.gz#sha256=e37acd91976fe6119172771520e58d1742c8479703489321dc1d9c85e7259922 (from https://pypi.tuna.tsinghua.edu.cn/simple/prettytable/) (requires-python:>=3.6), version: 2.0.0\n",
      "  Found link https://pypi.tuna.tsinghua.edu.cn/packages/26/1b/42b59a4038bc0442e3a0085bc0de385658131eef8a88946333f870559b09/prettytable-2.1.0-py3-none-any.whl#sha256=bb5abc72bdfae6f3cdadb04fb7726f6915af0ddb7c897a41d4ad7736d9bfd8fd (from https://pypi.tuna.tsinghua.edu.cn/simple/prettytable/) (requires-python:>=3.6), version: 2.1.0\n",
      "  Found link https://pypi.tuna.tsinghua.edu.cn/packages/d4/c6/d388b3d4992acf413d1b67101107b7f4651cc2835abd0bbd6661678eb2c1/prettytable-2.1.0.tar.gz#sha256=5882ed9092b391bb8f6e91f59bcdbd748924ff556bb7c634089d5519be87baa0 (from https://pypi.tuna.tsinghua.edu.cn/simple/prettytable/) (requires-python:>=3.6), version: 2.1.0\n",
      "  Found link https://pypi.tuna.tsinghua.edu.cn/packages/bd/b5/c09f8d237e060a9e7b5d2d1577c2a6bc49fa298a7b4aefd52146f2b9a62e/prettytable-2.2.0-py3-none-any.whl#sha256=b186f1db9c9377cb552cfa95a3b7a0feab6ec55d7cad7e0763bdcbea1e8f4687 (from https://pypi.tuna.tsinghua.edu.cn/simple/prettytable/) (requires-python:>=3.6), version: 2.2.0\n",
      "  Found link https://pypi.tuna.tsinghua.edu.cn/packages/00/8d/95441120aa870aa800f8b4c6cf650bf0739d7a41883fe81769ab593556c9/prettytable-2.2.0.tar.gz#sha256=bd81678c108e6c73d4f1e47cd4283de301faaa6ff6220bcd1d4022038c56b416 (from https://pypi.tuna.tsinghua.edu.cn/simple/prettytable/) (requires-python:>=3.6), version: 2.2.0\n",
      "  Found link https://pypi.tuna.tsinghua.edu.cn/packages/e1/77/821a93d77111aee2525841b6116287f99eeefc482f4f28765fd8d7ef1c64/prettytable-2.2.1-py3-none-any.whl#sha256=09fb2c7f93e4f93e0235f05ae199ac3f16da3a251b2cfa1c7108b34ede298fa3 (from https://pypi.tuna.tsinghua.edu.cn/simple/prettytable/) (requires-python:>=3.6), version: 2.2.1\n",
      "  Found link https://pypi.tuna.tsinghua.edu.cn/packages/81/ba/ead3c121d6e59ea4e31bba0976b28ff0369210c66901e84fad20878299e2/prettytable-2.2.1.tar.gz#sha256=6d465005573a5c058d4ca343449a5b28c21252b86afcdfa168cdc6a440f0b24c (from https://pypi.tuna.tsinghua.edu.cn/simple/prettytable/) (requires-python:>=3.6), version: 2.2.1\n",
      "  Found link https://pypi.tuna.tsinghua.edu.cn/packages/c2/98/3372c23c561cbaaa05bb60b2c3d30bfdad9ab504bf1ddefc7368b4545958/prettytable-2.3.0-py3-none-any.whl#sha256=74ba6d10555c93e2d4697751744207f6baadf77010914b2bcd8d5b3b546f84de (from https://pypi.tuna.tsinghua.edu.cn/simple/prettytable/) (requires-python:>=3.6), version: 2.3.0\n",
      "  Found link https://pypi.tuna.tsinghua.edu.cn/packages/8b/7d/a08e1331281f237cbbff594d34696a76dc8b6cea5dca895d0b7487c14309/prettytable-2.3.0.tar.gz#sha256=efd6f72d453bc0513b90f5b10fb4d085b919ca0f4c5ef033bda1dd894572ba64 (from https://pypi.tuna.tsinghua.edu.cn/simple/prettytable/) (requires-python:>=3.6), version: 2.3.0\n",
      "  Found link https://pypi.tuna.tsinghua.edu.cn/packages/de/56/554603797416219cae8fd3eae33e5e2d58a7fc73419129b62fa419a67856/prettytable-2.4.0-py3-none-any.whl#sha256=2492f29e8686bdbcce815a568bff74cb71cbb704747c3abb9c9c6cfe25f985a2 (from https://pypi.tuna.tsinghua.edu.cn/simple/prettytable/) (requires-python:>=3.6), version: 2.4.0\n",
      "  Found link https://pypi.tuna.tsinghua.edu.cn/packages/ea/36/a96f1d0f434e1658b3fde011df028efdc3d38bde563339f0fc9e8beadc59/prettytable-2.4.0.tar.gz#sha256=18e56447f636b447096977d468849c1e2d3cfa0af8e7b5acfcf83a64790c0aca (from https://pypi.tuna.tsinghua.edu.cn/simple/prettytable/) (requires-python:>=3.6), version: 2.4.0\n",
      "  Found link https://pypi.tuna.tsinghua.edu.cn/packages/9e/6d/40a24eaa03ea4418129708fd3f0f17eda73d568f16d4d4fd412566168b4c/prettytable-2.5.0-py3-none-any.whl#sha256=1411c65d21dca9eaa505ba1d041bed75a6d629ae22f5109a923f4e719cfecba4 (from https://pypi.tuna.tsinghua.edu.cn/simple/prettytable/) (requires-python:>=3.6), version: 2.5.0\n",
      "  Found link https://pypi.tuna.tsinghua.edu.cn/packages/e4/35/21bf22e21b29102bbe81730caf498dfb3e1eed2642ac71f323472ead673a/prettytable-2.5.0.tar.gz#sha256=f7da57ba63d55116d65e5acb147bfdfa60dceccabf0d607d6817ee2888a05f2c (from https://pypi.tuna.tsinghua.edu.cn/simple/prettytable/) (requires-python:>=3.6), version: 2.5.0\n",
      "  Found link https://pypi.tuna.tsinghua.edu.cn/packages/71/4f/82c03ec59c6b9b1caaa60e1e7d7713f4587a75824207e41698effc8ca5b7/prettytable-3.0.0-py3-none-any.whl#sha256=d55bc2547611bd8c40f1c69bbb8daf1b6b2c326214a265d211ec9c57fc252093 (from https://pypi.tuna.tsinghua.edu.cn/simple/prettytable/) (requires-python:>=3.7), version: 3.0.0\n",
      "  Found link https://pypi.tuna.tsinghua.edu.cn/packages/71/19/d65d4c39aa12a5630a8aa02ead8324cfaae3217146b19dd25d88d763bbdf/prettytable-3.0.0.tar.gz#sha256=69fe75d78ac8651e16dd61265b9e19626df5d630ae294fc31687aa6037b97a58 (from https://pypi.tuna.tsinghua.edu.cn/simple/prettytable/) (requires-python:>=3.7), version: 3.0.0\n",
      "  Found link https://pypi.tuna.tsinghua.edu.cn/packages/bf/f5/2ec9f14ac0a8efc292d003ff60d001ce28994a3b3109fda1d786be3415c8/prettytable-3.1.0-py3-none-any.whl#sha256=e87c6a7d9ef34230556fa0b4bb5ea465fdada6912cd90401afb0ce4bfa106448 (from https://pypi.tuna.tsinghua.edu.cn/simple/prettytable/) (requires-python:>=3.7), version: 3.1.0\n",
      "  Found link https://pypi.tuna.tsinghua.edu.cn/packages/01/55/a4a1a0f73f7665744cd5712fd6f982e5406c8e7459a0730a69299a3c1e2b/prettytable-3.1.0.tar.gz#sha256=7c2e104031614b5ba013516440241702bfaa369534069de3bacca015ffd0f27b (from https://pypi.tuna.tsinghua.edu.cn/simple/prettytable/) (requires-python:>=3.7), version: 3.1.0\n",
      "  Found link https://pypi.tuna.tsinghua.edu.cn/packages/f9/b5/7775772482999e0659def71de81cb888a822b29284ca2b7d55f37ba512bb/prettytable-3.1.1-py3-none-any.whl#sha256=f546d42de21ac14d791c91e4e9814f02271f4a5bf27b894457914be7513dc92b (from https://pypi.tuna.tsinghua.edu.cn/simple/prettytable/) (requires-python:>=3.7), version: 3.1.1\n",
      "  Found link https://pypi.tuna.tsinghua.edu.cn/packages/89/c1/3043e85bf06f252f51817dad51a37368daaf7b1c101b43cd5aa6100f09b1/prettytable-3.1.1.tar.gz#sha256=43c9e23272ca253d038ae76fe3adde89794e92e7fcab2ddf5b94b38642ef4f21 (from https://pypi.tuna.tsinghua.edu.cn/simple/prettytable/) (requires-python:>=3.7), version: 3.1.1\n",
      "  Found link https://pypi.tuna.tsinghua.edu.cn/packages/96/53/91638391af5a68d27402b920ccc3fdfae51dd3e333476b414393d4478a70/prettytable-3.2.0-py3-none-any.whl#sha256=f6c5ec87c3ef9df5bba1d32d826c1b862ecad0344dddb6082e3562caf71fe085 (from https://pypi.tuna.tsinghua.edu.cn/simple/prettytable/) (requires-python:>=3.7), version: 3.2.0\n",
      "  Found link https://pypi.tuna.tsinghua.edu.cn/packages/cb/7d/7e6bc4bd4abc49e9f4f5c4773bb43d1615e4b476d108d1b527318b9c6521/prettytable-3.2.0.tar.gz#sha256=ae7d96c64100543dc61662b40a28f3b03c0f94a503ed121c6fca2782c5816f81 (from https://pypi.tuna.tsinghua.edu.cn/simple/prettytable/) (requires-python:>=3.7), version: 3.2.0\n",
      "  Found link https://pypi.tuna.tsinghua.edu.cn/packages/5f/ab/64371af206988d7b15c8112c9c277b8eb4618397c01471e52b902a17f59c/prettytable-3.3.0-py3-none-any.whl#sha256=d1c34d72ea2c0ffd6ce5958e71c428eb21a3d40bf3133afe319b24aeed5af407 (from https://pypi.tuna.tsinghua.edu.cn/simple/prettytable/) (requires-python:>=3.7), version: 3.3.0\n",
      "  Found link https://pypi.tuna.tsinghua.edu.cn/packages/10/88/ef38a6e4bc375600d3031e405a8d3b3dc4a154fccffd21d5d06e66c96230/prettytable-3.3.0.tar.gz#sha256=118eb54fd2794049b810893653b20952349df6d3bc1764e7facd8a18064fa9b0 (from https://pypi.tuna.tsinghua.edu.cn/simple/prettytable/) (requires-python:>=3.7), version: 3.3.0\n",
      "  Found link https://pypi.tuna.tsinghua.edu.cn/packages/a7/b7/691a836347df9610c2264e7e60461f9991ca36ce9f2179a38ebc9e4a2682/prettytable-3.4.0-py3-none-any.whl#sha256=8ea12e615fee421090ca3954c2e006280f7ecdf4adf940dbc1c6ec014d4eca9d (from https://pypi.tuna.tsinghua.edu.cn/simple/prettytable/) (requires-python:>=3.7), version: 3.4.0\n",
      "  Found link https://pypi.tuna.tsinghua.edu.cn/packages/63/42/b8b24cfe616a8217515011fc54ed37b45077cd4467230b3a0132166696a1/prettytable-3.4.0.tar.gz#sha256=d16747b5108c252bf065ea1cd239aab3c87bd8bb10a9f7973c9f192bbcfed26e (from https://pypi.tuna.tsinghua.edu.cn/simple/prettytable/) (requires-python:>=3.7), version: 3.4.0\n",
      "  Found link https://pypi.tuna.tsinghua.edu.cn/packages/5b/c9/4e7dbae5054c5bbaed9e7aa7a78e1ceff003d0b0699318e5d6993a0a10c9/prettytable-3.4.1-py3-none-any.whl#sha256=0d23ff81e165077d93367e1379d97893c7a51541483d25bad45b9647660ef06f (from https://pypi.tuna.tsinghua.edu.cn/simple/prettytable/) (requires-python:>=3.7), version: 3.4.1\n",
      "  Found link https://pypi.tuna.tsinghua.edu.cn/packages/a5/aa/0852b0ee91587a766fbc872f398ed26366c7bf26373d5feb974bebbde8d2/prettytable-3.4.1.tar.gz#sha256=7d7dd84d0b206f2daac4471a72f299d6907f34516064feb2838e333a4e2567bd (from https://pypi.tuna.tsinghua.edu.cn/simple/prettytable/) (requires-python:>=3.7), version: 3.4.1\n",
      "Skipping link: not a file: https://pypi.tuna.tsinghua.edu.cn/simple/prettytable/\n",
      "Given no hashes to check 50 links for project 'prettytable': discarding no candidates\n",
      "Collecting prettytable\n",
      "  Created temporary directory: /tmp/pip-unpack-8rmgkv6w\n",
      "  Looking up \"https://pypi.tuna.tsinghua.edu.cn/packages/5b/c9/4e7dbae5054c5bbaed9e7aa7a78e1ceff003d0b0699318e5d6993a0a10c9/prettytable-3.4.1-py3-none-any.whl\" in the cache\n",
      "  No cache entry available\n",
      "  https://pypi.tuna.tsinghua.edu.cn:443 \"GET /packages/5b/c9/4e7dbae5054c5bbaed9e7aa7a78e1ceff003d0b0699318e5d6993a0a10c9/prettytable-3.4.1-py3-none-any.whl HTTP/1.1\" 200 26827\n",
      "  Downloading https://pypi.tuna.tsinghua.edu.cn/packages/5b/c9/4e7dbae5054c5bbaed9e7aa7a78e1ceff003d0b0699318e5d6993a0a10c9/prettytable-3.4.1-py3-none-any.whl (26 kB)\n",
      "  Updating cache with response from \"https://pypi.tuna.tsinghua.edu.cn/packages/5b/c9/4e7dbae5054c5bbaed9e7aa7a78e1ceff003d0b0699318e5d6993a0a10c9/prettytable-3.4.1-py3-none-any.whl\"\n",
      "  Added prettytable from https://pypi.tuna.tsinghua.edu.cn/packages/5b/c9/4e7dbae5054c5bbaed9e7aa7a78e1ceff003d0b0699318e5d6993a0a10c9/prettytable-3.4.1-py3-none-any.whl#sha256=0d23ff81e165077d93367e1379d97893c7a51541483d25bad45b9647660ef06f (from mmsegmentation==0.29.0) to build tracker '/tmp/pip-req-tracker-yenmuhk9'\n",
      "  Removed prettytable from https://pypi.tuna.tsinghua.edu.cn/packages/5b/c9/4e7dbae5054c5bbaed9e7aa7a78e1ceff003d0b0699318e5d6993a0a10c9/prettytable-3.4.1-py3-none-any.whl#sha256=0d23ff81e165077d93367e1379d97893c7a51541483d25bad45b9647660ef06f (from mmsegmentation==0.29.0) from build tracker '/tmp/pip-req-tracker-yenmuhk9'\n",
      "Requirement already satisfied: setuptools-scm>=4 in /environment/miniconda3/lib/python3.7/site-packages (from matplotlib->mmsegmentation==0.29.0) (6.3.2)\n",
      "Requirement already satisfied: pyparsing>=2.2.1 in /environment/miniconda3/lib/python3.7/site-packages (from matplotlib->mmsegmentation==0.29.0) (3.0.6)\n",
      "Requirement already satisfied: cycler>=0.10 in /environment/miniconda3/lib/python3.7/site-packages (from matplotlib->mmsegmentation==0.29.0) (0.11.0)\n",
      "Requirement already satisfied: kiwisolver>=1.0.1 in /environment/miniconda3/lib/python3.7/site-packages (from matplotlib->mmsegmentation==0.29.0) (1.3.2)\n",
      "Requirement already satisfied: pillow>=6.2.0 in /environment/miniconda3/lib/python3.7/site-packages (from matplotlib->mmsegmentation==0.29.0) (8.4.0)\n",
      "Requirement already satisfied: fonttools>=4.22.0 in /environment/miniconda3/lib/python3.7/site-packages (from matplotlib->mmsegmentation==0.29.0) (4.28.3)\n",
      "Requirement already satisfied: python-dateutil>=2.7 in /environment/miniconda3/lib/python3.7/site-packages (from matplotlib->mmsegmentation==0.29.0) (2.8.2)\n",
      "Requirement already satisfied: six>=1.5 in /environment/miniconda3/lib/python3.7/site-packages (from python-dateutil>=2.7->matplotlib->mmsegmentation==0.29.0) (1.16.0)\n",
      "Requirement already satisfied: tomli>=1.0.0 in /environment/miniconda3/lib/python3.7/site-packages (from setuptools-scm>=4->matplotlib->mmsegmentation==0.29.0) (1.2.2)\n",
      "Requirement already satisfied: setuptools in /environment/miniconda3/lib/python3.7/site-packages (from setuptools-scm>=4->matplotlib->mmsegmentation==0.29.0) (52.0.0.post20210125)\n",
      "Requirement already satisfied: importlib-metadata in /environment/miniconda3/lib/python3.7/site-packages (from prettytable->mmsegmentation==0.29.0) (4.8.2)\n",
      "Requirement already satisfied: wcwidth in /environment/miniconda3/lib/python3.7/site-packages (from prettytable->mmsegmentation==0.29.0) (0.2.5)\n",
      "Requirement already satisfied: zipp>=0.5 in /environment/miniconda3/lib/python3.7/site-packages (from importlib-metadata->prettytable->mmsegmentation==0.29.0) (3.6.0)\n",
      "Requirement already satisfied: typing-extensions>=3.6.4 in /environment/miniconda3/lib/python3.7/site-packages (from importlib-metadata->prettytable->mmsegmentation==0.29.0) (4.0.1)\n",
      "Created temporary directory: /tmp/pip-unpack-fi5b6css\n",
      "Installing collected packages: prettytable, mmcls, mmsegmentation\n",
      "\n",
      "\n",
      "  Running setup.py develop for mmsegmentation\n",
      "    Running command /environment/miniconda3/bin/python -c 'import io, os, sys, setuptools, tokenize; sys.argv[0] = '\"'\"'/home/featurize/work/MMSegmentation教程/mmsegmentation/setup.py'\"'\"'; __file__='\"'\"'/home/featurize/work/MMSegmentation教程/mmsegmentation/setup.py'\"'\"';f = getattr(tokenize, '\"'\"'open'\"'\"', open)(__file__) if os.path.exists(__file__) else io.StringIO('\"'\"'from setuptools import setup; setup()'\"'\"');code = f.read().replace('\"'\"'\\r\\n'\"'\"', '\"'\"'\\n'\"'\"');f.close();exec(compile(code, __file__, '\"'\"'exec'\"'\"'))' develop --no-deps\n",
      "    running develop\n",
      "    running egg_info\n",
      "    creating mmsegmentation.egg-info\n",
      "    writing mmsegmentation.egg-info/PKG-INFO\n",
      "    writing dependency_links to mmsegmentation.egg-info/dependency_links.txt\n",
      "    writing requirements to mmsegmentation.egg-info/requires.txt\n",
      "    writing top-level names to mmsegmentation.egg-info/top_level.txt\n",
      "    writing manifest file 'mmsegmentation.egg-info/SOURCES.txt'\n",
      "    reading manifest template 'MANIFEST.in'\n",
      "    writing manifest file 'mmsegmentation.egg-info/SOURCES.txt'\n",
      "    running build_ext\n",
      "    Creating /environment/miniconda3/lib/python3.7/site-packages/mmsegmentation.egg-link (link to .)\n",
      "    Adding mmsegmentation 0.29.0 to easy-install.pth file\n",
      "\n",
      "    Installed /home/featurize/work/MMSegmentation教程/mmsegmentation\n",
      "Successfully installed mmcls-0.24.0 mmsegmentation-0.29.0 prettytable-3.4.1\n",
      "Removed build tracker: '/tmp/pip-req-tracker-yenmuhk9'\n"
     ]
    }
   ],
   "source": [
    "!pip install -v -e ."
   ]
  },
  {
   "cell_type": "markdown",
   "id": "a828bfe4-82e5-497a-9bda-cb9837df2cb3",
   "metadata": {},
   "source": [
    "## 下载预训练模型权重文件和视频素材"
   ]
  },
  {
   "cell_type": "code",
   "execution_count": 11,
   "id": "5aac1d0c-dbf5-478c-ab80-7e2aa0ab0f01",
   "metadata": {},
   "outputs": [],
   "source": [
    "import os\n",
    "\n",
    "# 创建 checkpoint 文件夹，用于存放预训练模型权重文件\n",
    "os.mkdir('checkpoint')\n",
    "\n",
    "# 创建 outputs 文件夹，用于存放预测结果\n",
    "os.mkdir('outputs')\n",
    "\n",
    "# 创建 data 文件夹，用于存放视频\n",
    "os.mkdir('data')"
   ]
  },
  {
   "cell_type": "markdown",
   "id": "e4fb1cb6-2b9b-418c-9230-6b413c748095",
   "metadata": {},
   "source": [
    "## 下载素材\n",
    "\n",
    "如果报错`Unable to establish SSL connection.`，重新运行代码块即可。"
   ]
  },
  {
   "cell_type": "code",
   "execution_count": 20,
   "id": "476bcac7-da39-416a-ba15-8d840d3ec06b",
   "metadata": {},
   "outputs": [
    {
     "name": "stdout",
     "output_type": "stream",
     "text": [
      "--2022-10-18 22:21:13--  https://zihao-download.obs.cn-east-3.myhuaweicloud.com/detectron2/traffic.mp4\n",
      "正在连接 172.16.0.13:5848... 已连接。\n",
      "无法建立 SSL 连接。\n",
      "--2022-10-18 22:21:23--  https://zihao-openmmlab.obs.cn-east-3.myhuaweicloud.com/20220713-mmdetection/images/street_20220330_174028.mp4\n",
      "正在连接 172.16.0.13:5848... 已连接。\n",
      "已发出 Proxy 请求，正在等待回应... 200 OK\n",
      "长度： 13575276 (13M) [video/mp4]\n",
      "正在保存至: “data/street_20220330_174028.mp4”\n",
      "\n",
      "street_20220330_174 100%[===================>]  12.95M  21.6MB/s    用时 0.6s    \n",
      "\n",
      "2022-10-18 22:21:24 (21.6 MB/s) - 已保存 “data/street_20220330_174028.mp4” [13575276/13575276])\n",
      "\n"
     ]
    }
   ],
   "source": [
    "# 上海驾车街景视频，视频来源：https://www.youtube.com/watch?v=ll8TgCZ0plk\n",
    "!wget https://zihao-download.obs.cn-east-3.myhuaweicloud.com/detectron2/traffic.mp4 -P data\n",
    "\n",
    "# 街拍视频，2022年3月30日\n",
    "!wget https://zihao-openmmlab.obs.cn-east-3.myhuaweicloud.com/20220713-mmdetection/images/street_20220330_174028.mp4 -P data\n"
   ]
  },
  {
   "cell_type": "markdown",
   "id": "fa97e1da-f245-4d32-892d-dec07a6b2c16",
   "metadata": {},
   "source": [
    "## 检查安装成功"
   ]
  },
  {
   "cell_type": "code",
   "execution_count": 17,
   "id": "e7b5e8b9-849f-4f92-a9c1-3f4aefa37d5a",
   "metadata": {
    "tags": []
   },
   "outputs": [
    {
     "name": "stdout",
     "output_type": "stream",
     "text": [
      "Pytorch 版本 1.10.1+cu113\n",
      "CUDA 是否可用 True\n",
      "CUDA版本 11.3\n",
      "编译器版本 GCC 9.3\n",
      "mmsegmentation版本 0.29.0\n"
     ]
    }
   ],
   "source": [
    "# 检查 Pytorch\n",
    "import torch, torchvision\n",
    "print('Pytorch 版本', torch.__version__)\n",
    "print('CUDA 是否可用',torch.cuda.is_available())\n",
    "\n",
    "# 检查 mmcv\n",
    "from mmcv.ops import get_compiling_cuda_version, get_compiler_version\n",
    "print('CUDA版本', get_compiling_cuda_version())\n",
    "print('编译器版本', get_compiler_version())\n",
    "\n",
    "# 检查 mmsegmentation\n",
    "import mmseg\n",
    "from mmseg.apis import inference_segmentor, init_segmentor\n",
    "print('mmsegmentation版本', mmseg.__version__)"
   ]
  },
  {
   "cell_type": "code",
   "execution_count": 14,
   "id": "3dd67a85-9c04-4f19-8693-a051b6a4e0bd",
   "metadata": {},
   "outputs": [
    {
     "data": {
      "text/plain": [
       "{'sys.platform': 'linux',\n",
       " 'Python': '3.7.10 (default, Jun  4 2021, 14:48:32) [GCC 7.5.0]',\n",
       " 'CUDA available': True,\n",
       " 'GPU 0': 'NVIDIA RTX A4000',\n",
       " 'CUDA_HOME': '/usr/local/cuda',\n",
       " 'NVCC': 'Cuda compilation tools, release 11.2, V11.2.152',\n",
       " 'GCC': 'gcc (Ubuntu 9.3.0-17ubuntu1~20.04) 9.3.0',\n",
       " 'PyTorch': '1.10.1+cu113',\n",
       " 'PyTorch compiling details': 'PyTorch built with:\\n  - GCC 7.3\\n  - C++ Version: 201402\\n  - Intel(R) Math Kernel Library Version 2020.0.0 Product Build 20191122 for Intel(R) 64 architecture applications\\n  - Intel(R) MKL-DNN v2.2.3 (Git Hash 7336ca9f055cf1bfa13efb658fe15dc9b41f0740)\\n  - OpenMP 201511 (a.k.a. OpenMP 4.5)\\n  - LAPACK is enabled (usually provided by MKL)\\n  - NNPACK is enabled\\n  - CPU capability usage: AVX512\\n  - CUDA Runtime 11.3\\n  - NVCC architecture flags: -gencode;arch=compute_37,code=sm_37;-gencode;arch=compute_50,code=sm_50;-gencode;arch=compute_60,code=sm_60;-gencode;arch=compute_70,code=sm_70;-gencode;arch=compute_75,code=sm_75;-gencode;arch=compute_80,code=sm_80;-gencode;arch=compute_86,code=sm_86\\n  - CuDNN 8.2\\n  - Magma 2.5.2\\n  - Build settings: BLAS_INFO=mkl, BUILD_TYPE=Release, CUDA_VERSION=11.3, CUDNN_VERSION=8.2.0, CXX_COMPILER=/opt/rh/devtoolset-7/root/usr/bin/c++, CXX_FLAGS= -Wno-deprecated -fvisibility-inlines-hidden -DUSE_PTHREADPOOL -fopenmp -DNDEBUG -DUSE_KINETO -DUSE_FBGEMM -DUSE_QNNPACK -DUSE_PYTORCH_QNNPACK -DUSE_XNNPACK -DSYMBOLICATE_MOBILE_DEBUG_HANDLE -DEDGE_PROFILER_USE_KINETO -O2 -fPIC -Wno-narrowing -Wall -Wextra -Werror=return-type -Wno-missing-field-initializers -Wno-type-limits -Wno-array-bounds -Wno-unknown-pragmas -Wno-sign-compare -Wno-unused-parameter -Wno-unused-variable -Wno-unused-function -Wno-unused-result -Wno-unused-local-typedefs -Wno-strict-overflow -Wno-strict-aliasing -Wno-error=deprecated-declarations -Wno-stringop-overflow -Wno-psabi -Wno-error=pedantic -Wno-error=redundant-decls -Wno-error=old-style-cast -fdiagnostics-color=always -faligned-new -Wno-unused-but-set-variable -Wno-maybe-uninitialized -fno-math-errno -fno-trapping-math -Werror=format -Wno-stringop-overflow, LAPACK_INFO=mkl, PERF_WITH_AVX=1, PERF_WITH_AVX2=1, PERF_WITH_AVX512=1, TORCH_VERSION=1.10.1, USE_CUDA=ON, USE_CUDNN=ON, USE_EXCEPTION_PTR=1, USE_GFLAGS=OFF, USE_GLOG=OFF, USE_MKL=ON, USE_MKLDNN=ON, USE_MPI=OFF, USE_NCCL=ON, USE_NNPACK=ON, USE_OPENMP=ON, \\n',\n",
       " 'TorchVision': '0.11.2+cu113',\n",
       " 'OpenCV': '4.5.4',\n",
       " 'MMCV': '1.6.2',\n",
       " 'MMCV Compiler': 'GCC 9.3',\n",
       " 'MMCV CUDA Compiler': '11.3'}"
      ]
     },
     "execution_count": 14,
     "metadata": {},
     "output_type": "execute_result"
    }
   ],
   "source": [
    "from mmcv import collect_env\n",
    "collect_env()"
   ]
  },
  {
   "cell_type": "markdown",
   "id": "89716d32-b021-40f7-bb8b-72f6b9df6157",
   "metadata": {},
   "source": [
    "## 小试牛刀"
   ]
  },
  {
   "cell_type": "markdown",
   "id": "6ea9b94f-0222-4986-96aa-d0bf3bdfcdd4",
   "metadata": {},
   "source": [
    "使用预训练的`ByteTrack`多目标追踪模型，对`data/mot_people_short.mp4`文件进行追踪预测，生成`outputs/output_A_mot_people_short.mp4`视频文件。"
   ]
  },
  {
   "cell_type": "code",
   "execution_count": null,
   "id": "d0f5b13e-262c-4dc1-b4e3-88e5b7a0bc4c",
   "metadata": {},
   "outputs": [],
   "source": []
  }
 ],
 "metadata": {
  "kernelspec": {
   "display_name": "Python 3 (ipykernel)",
   "language": "python",
   "name": "python3"
  },
  "language_info": {
   "codemirror_mode": {
    "name": "ipython",
    "version": 3
   },
   "file_extension": ".py",
   "mimetype": "text/x-python",
   "name": "python",
   "nbconvert_exporter": "python",
   "pygments_lexer": "ipython3",
   "version": "3.7.10"
  }
 },
 "nbformat": 4,
 "nbformat_minor": 5
}
