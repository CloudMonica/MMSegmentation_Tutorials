{
 "cells": [
  {
   "cell_type": "markdown",
   "id": "62e92ff5-095c-42bb-a21b-e9746e7682f6",
   "metadata": {},
   "source": [
    "# 扩展阅读\n",
    "\n",
    "OpenMMLab主页：https://openmmlab.com/\n",
    "\n",
    "MMSegmentation主页：https://github.com/open-mmlab/mmsegmentation\n",
    "\n",
    "同济子豪兄视频教程：https://space.bilibili.com/1900783\n",
    "\n",
    "同济子豪兄代码教程：https://github.com/TommyZihao/MMSegmentation_Tutorials\n",
    "\n",
    "\n",
    "超详细！手把手带你轻松用 MMSegmentation 跑语义分割数据集：https://zhuanlan.zhihu.com/p/525422379\n",
    "\n",
    "Cityscapes语义分割数据集：https://www.cityscapes-dataset.com"
   ]
  },
  {
   "cell_type": "code",
   "execution_count": null,
   "id": "4282d641-bf1f-4665-b9b2-bb31190285a3",
   "metadata": {},
   "outputs": [],
   "source": []
  }
 ],
 "metadata": {
  "kernelspec": {
   "display_name": "Python 3 (ipykernel)",
   "language": "python",
   "name": "python3"
  },
  "language_info": {
   "codemirror_mode": {
    "name": "ipython",
    "version": 3
   },
   "file_extension": ".py",
   "mimetype": "text/x-python",
   "name": "python",
   "nbconvert_exporter": "python",
   "pygments_lexer": "ipython3",
   "version": "3.7.10"
  }
 },
 "nbformat": 4,
 "nbformat_minor": 5
}
