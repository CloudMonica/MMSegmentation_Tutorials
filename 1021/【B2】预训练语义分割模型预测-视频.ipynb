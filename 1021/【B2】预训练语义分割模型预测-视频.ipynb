{
 "cells": [
  {
   "cell_type": "markdown",
   "id": "df0a25e6-6f49-4f96-af23-b1e81fb10ab4",
   "metadata": {},
   "source": [
    "# 预训练语义分割模型预测-视频\n",
    "\n",
    "同济子豪兄：https://space.bilibili.com/1900783\n",
    "\n",
    "2022-10-18"
   ]
  },
  {
   "cell_type": "markdown",
   "id": "0545b852-5e69-45b6-abbc-1483b7a434d6",
   "metadata": {},
   "source": [
    "## 进入 mmsegmentation 主目录"
   ]
  },
  {
   "cell_type": "code",
   "execution_count": 1,
   "id": "c24d56aa-5528-4561-bb1c-33bcffe2c852",
   "metadata": {},
   "outputs": [],
   "source": [
    "import os\n",
    "os.chdir('mmsegmentation')"
   ]
  },
  {
   "cell_type": "markdown",
   "id": "f7e3673e-a5f2-46f0-a87f-0069dd165485",
   "metadata": {},
   "source": [
    "## 视频预测-命令行"
   ]
  },
  {
   "cell_type": "code",
   "execution_count": 2,
   "id": "675ba255-09a8-4d30-82ed-3860dfa3950d",
   "metadata": {},
   "outputs": [
    {
     "name": "stdout",
     "output_type": "stream",
     "text": [
      "/home/featurize/work/MMSegmentation教程/mmsegmentation/mmseg/models/losses/cross_entropy_loss.py:236: UserWarning: Default ``avg_non_ignore`` is False, if you would like to ignore the certain label and average loss over non-ignore labels, which is the same with PyTorch official cross_entropy, set ``avg_non_ignore=True``.\n",
      "  'Default ``avg_non_ignore`` is False, if you would like to '\n",
      "load checkpoint from http path: https://download.openmmlab.com/mmsegmentation/v0.5/segformer/segformer_mit-b5_8x1_1024x1024_160k_cityscapes/segformer_mit-b5_8x1_1024x1024_160k_cityscapes_20211206_072934-87a052ec.pth\n",
      "OpenCV: FFMPEG: tag 0x47504a4d/'MJPG' is not supported with codec id 7 and format 'mp4 / MP4 (MPEG-4 Part 14)'\n",
      "OpenCV: FFMPEG: fallback to use tag 0x7634706d/'mp4v'\n",
      "/home/featurize/work/MMSegmentation教程/mmsegmentation/mmseg/models/segmentors/base.py:289: UserWarning: show==False and out_file is not specified, only result image will be returned\n",
      "  warnings.warn('show==False and out_file is not specified, only '\n"
     ]
    }
   ],
   "source": [
    "!python demo/video_demo.py \\\n",
    "        data/traffic.mp4 \\\n",
    "        configs/segformer/segformer_mit-b5_8x1_1024x1024_160k_cityscapes.py \\\n",
    "        https://download.openmmlab.com/mmsegmentation/v0.5/segformer/segformer_mit-b5_8x1_1024x1024_160k_cityscapes/segformer_mit-b5_8x1_1024x1024_160k_cityscapes_20211206_072934-87a052ec.pth \\\n",
    "        --device cuda:0 \\\n",
    "        --palette cityscapes \\\n",
    "        --output-file outputs/output_pred_traffic.mp4 \\\n",
    "        --opacity 0.5"
   ]
  },
  {
   "cell_type": "markdown",
   "id": "dd646001-89ad-4508-b709-717a18230316",
   "metadata": {},
   "source": [
    "## 视频预测-Python API"
   ]
  },
  {
   "cell_type": "markdown",
   "id": "4c7fbae8-e700-41f4-8b75-c01224883dee",
   "metadata": {},
   "source": [
    "### 导入工具包"
   ]
  },
  {
   "cell_type": "code",
   "execution_count": 2,
   "id": "75bdbf74-66bb-4e0e-abb1-6e4f48a7f0c0",
   "metadata": {},
   "outputs": [],
   "source": [
    "import numpy as np\n",
    "import mmcv\n",
    "import time\n",
    "import shutil\n",
    "from mmseg.apis import inference_segmentor"
   ]
  },
  {
   "cell_type": "markdown",
   "id": "cd1ff19c-ae76-4203-aa61-b2c2f105c6ad",
   "metadata": {},
   "source": [
    "### 载入模型"
   ]
  },
  {
   "cell_type": "code",
   "execution_count": 3,
   "id": "6710ee9f-d7b9-4ca7-ba84-84499ec5353f",
   "metadata": {},
   "outputs": [
    {
     "name": "stderr",
     "output_type": "stream",
     "text": [
      "/home/featurize/work/MMSegmentation教程/mmsegmentation/mmseg/models/losses/cross_entropy_loss.py:236: UserWarning: Default ``avg_non_ignore`` is False, if you would like to ignore the certain label and average loss over non-ignore labels, which is the same with PyTorch official cross_entropy, set ``avg_non_ignore=True``.\n",
      "  'Default ``avg_non_ignore`` is False, if you would like to '\n"
     ]
    },
    {
     "name": "stdout",
     "output_type": "stream",
     "text": [
      "load checkpoint from http path: https://download.openmmlab.com/mmsegmentation/v0.5/segformer/segformer_mit-b5_8x1_1024x1024_160k_cityscapes/segformer_mit-b5_8x1_1024x1024_160k_cityscapes_20211206_072934-87a052ec.pth\n"
     ]
    }
   ],
   "source": [
    "# 模型 config 配置文件\n",
    "config_file = 'configs/segformer/segformer_mit-b5_8x1_1024x1024_160k_cityscapes.py'\n",
    "# 模型 checkpoint 权重文件\n",
    "checkpoint_file = 'https://download.openmmlab.com/mmsegmentation/v0.5/segformer/segformer_mit-b5_8x1_1024x1024_160k_cityscapes/segformer_mit-b5_8x1_1024x1024_160k_cityscapes_20211206_072934-87a052ec.pth'\n",
    "\n",
    "from mmseg.apis import init_segmentor\n",
    "model = init_segmentor(config_file, checkpoint_file, device='cuda:0')"
   ]
  },
  {
   "cell_type": "markdown",
   "id": "e81912ec-c8ff-4d63-8c4b-f0b9eab00da7",
   "metadata": {},
   "source": [
    "### 输入视频路径"
   ]
  },
  {
   "cell_type": "code",
   "execution_count": 4,
   "id": "a0ae61f8-23ec-4f99-8951-ebc1522280b7",
   "metadata": {},
   "outputs": [],
   "source": [
    "input_video = 'data/traffic.mp4'\n",
    "\n",
    "input_video = 'data/street_20220330_174028.mp4'"
   ]
  },
  {
   "cell_type": "markdown",
   "id": "4dc3f035-8390-4be4-aefe-770990a04f78",
   "metadata": {},
   "source": [
    "### 创建临时文件夹，存放每帧结果"
   ]
  },
  {
   "cell_type": "code",
   "execution_count": 5,
   "id": "9d92a9e1-040d-4c4b-881d-f16053086db0",
   "metadata": {},
   "outputs": [
    {
     "name": "stdout",
     "output_type": "stream",
     "text": [
      "创建临时文件夹 20221021231102 用于存放每帧预测结果\n"
     ]
    }
   ],
   "source": [
    "temp_out_dir = time.strftime('%Y%m%d%H%M%S')\n",
    "os.mkdir(temp_out_dir)\n",
    "print('创建临时文件夹 {} 用于存放每帧预测结果'.format(temp_out_dir))"
   ]
  },
  {
   "cell_type": "markdown",
   "id": "25a3f5bf-f6fa-4f3b-832a-e84ce7437ed1",
   "metadata": {},
   "source": [
    "### 视频逐帧预测"
   ]
  },
  {
   "cell_type": "code",
   "execution_count": 6,
   "id": "4b53cf47-d1eb-4b77-97bd-8ce01dc3cbc4",
   "metadata": {},
   "outputs": [
    {
     "name": "stdout",
     "output_type": "stream",
     "text": [
      "[>>>>>>>>>>>>>>>>>>>>>>>>>>>>>>] 138/138, 22.7 task/s, elapsed: 6s, ETA:     0s[                                                  ] 0/138, elapsed: 0s, ETA:\n",
      "删除临时文件夹 20221021231102\n"
     ]
    }
   ],
   "source": [
    "# 读入待预测视频\n",
    "imgs = mmcv.VideoReader(input_video)\n",
    "\n",
    "prog_bar = mmcv.ProgressBar(len(imgs))\n",
    "\n",
    "# 对视频逐帧处理\n",
    "for frame_id, img in enumerate(imgs):\n",
    "    \n",
    "    ## 处理单帧画面\n",
    "    result = inference_segmentor(model, img) # 语义分割预测\n",
    "    temp_path = f'{temp_out_dir}/{frame_id:06d}.jpg' # 保存语义分割预测结果图像至临时文件夹\n",
    "    model.show_result(img, result, out_file=temp_path, opacity=0.5) # opacity控制透明度，越小，越接近原图\n",
    "\n",
    "    prog_bar.update() # 更新进度条\n",
    "\n",
    "# 把每一帧串成视频文件\n",
    "mmcv.frames2video(temp_out_dir, 'outputs/output_pred.mp4', fps=imgs.fps, fourcc='mp4v')\n",
    "\n",
    "shutil.rmtree(temp_out_dir) # 删除存放每帧画面的临时文件夹\n",
    "print('删除临时文件夹', temp_out_dir)"
   ]
  },
  {
   "cell_type": "code",
   "execution_count": null,
   "id": "e166deec-bfe8-4fbe-90df-44e9498c4b6d",
   "metadata": {},
   "outputs": [],
   "source": []
  }
 ],
 "metadata": {
  "kernelspec": {
   "display_name": "Python 3 (ipykernel)",
   "language": "python",
   "name": "python3"
  },
  "language_info": {
   "codemirror_mode": {
    "name": "ipython",
    "version": 3
   },
   "file_extension": ".py",
   "mimetype": "text/x-python",
   "name": "python",
   "nbconvert_exporter": "python",
   "pygments_lexer": "ipython3",
   "version": "3.7.10"
  }
 },
 "nbformat": 4,
 "nbformat_minor": 5
}
